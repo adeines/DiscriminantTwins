{
 "cells": [
  {
   "cell_type": "markdown",
   "metadata": {
    "collapsed": false
   },
   "source": [
    "## Section 1: Introduction\n",
    "\n",
    "#### Example 1.4\n",
    "\n",
    "This example shows that $2$-isogenous discriminant twins are not preserved under quadratic twist."
   ]
  },
  {
   "cell_type": "code",
   "execution_count": 8,
   "metadata": {
    "collapsed": false,
    "deletable": true,
    "editable": true
   },
   "outputs": [
    {
     "name": "stdout",
     "output_type": "stream",
     "text": [
      "Number field =  Number Field in a with defining polynomial x^3 - 2\n",
      "Class Number =  1\n",
      "Check the curves are isogenous:\n",
      "  E1 and E2? True\n",
      "  F1 and F2? True\n",
      "Check Fi is a quadratic twist of Ei by -2:\n",
      "  F1 is twist of E1 by: -2\n",
      "  F2 is twist of E2 by: -2\n",
      "Minimal Discriminant =  4416972000*a^2 + 5565036000*a + 7011506000\n",
      "Valuation at fp =  12\n",
      "Minimal Discriminant =  4416972000*a^2 + 5565036000*a + 7011506000\n",
      "Valuation at fp =  12\n"
     ]
    },
    {
     "name": "stdout",
     "output_type": "stream",
     "text": [
      "Minimal Discriminant =  282686208000*a^2 + 356162304000*a + 448736384000\n",
      "Valuation at fp =  30\n",
      "Minimal Discriminant =  17667888000*a^2 + 22260144000*a + 28046024000\n",
      "Valuation at fp =  18\n"
     ]
    }
   ],
   "source": [
    "load('explicit_isogeny_models.sage')\n",
    "P.<x> = QQ[]\n",
    "K.<a> = NumberField(x^3 - 2)\n",
    "t0 = 16\n",
    "print(\"Number field = \", K)\n",
    "print('Class Number = ', K.class_number())\n",
    "fp = K.ideal(2).factor()[0][0]\n",
    "E1, E2 = isog_curves(2, 16, 1)\n",
    "F1, F2 = isog_curves(2, 16, -2)\n",
    "print(\"Check the curves are isogenous:\")\n",
    "print('  E1 and E2?', E1.is_isogenous(E2))\n",
    "print('  F1 and F2?', F1.is_isogenous(F2))\n",
    "print(\"Check Fi is a quadratic twist of Ei by -2:\")\n",
    "print('  F1 is twist of E1 by:', F1.is_quadratic_twist(E1))\n",
    "print('  F2 is twist of E2 by:', F2.is_quadratic_twist(E2))\n",
    "for C in [E1, E2, F1, F2]:\n",
    "    C = C.change_ring(K)\n",
    "    D = C.global_minimal_model().discriminant()\n",
    "    print('Minimal Discriminant = ', D)\n",
    "    print('Valuation at fp = ', D.valuation(fp))"
   ]
  },
  {
   "cell_type": "markdown",
   "metadata": {
    "collapsed": false
   },
   "source": [
    "## Section 2: Preliminaries\n",
    "\n",
    "#### Example 2.5\n",
    "\n",
    "This is an example of an elliptic curve that doesn't have a global minimal model.\n"
   ]
  },
  {
   "cell_type": "code",
   "execution_count": 52,
   "metadata": {
    "collapsed": false
   },
   "outputs": [
    {
     "name": "stdout",
     "output_type": "stream",
     "text": [
      "Number Field =  Number Field in a with defining polynomial x^2 - 10\n",
      "Class Number =  2\n",
      "E ainvariants =  (a, a, 0, 1263*a - 8032, 62956*a - 305877)\n",
      "Minimal discriminant ideal =  (Fractional ideal (2, a)) * (Fractional ideal (3, a + 2))\n",
      "Discriminant of E =  (Fractional ideal (2, a))^13 * (Fractional ideal (3, a + 2))\n",
      "Etau ainvariants =  (1, a, a + 1, 7883*a - 50231, 993021*a - 4718332)\n",
      "Discriminant of Etau =  (Fractional ideal (2, a)) * (Fractional ideal (3, a + 2)) * (Fractional ideal (5, a))^12\n",
      "Weierstrass Class =  Fractional ideal class (2, a)\n"
     ]
    }
   ],
   "source": [
    "load('auxillary.sage')\n",
    "P.<x> = QQ[]\n",
    "K.<a> = NumberField(x^2 - 10)\n",
    "print('Number Field = ', K)\n",
    "print('Class Number = ', K.class_number())\n",
    "E = EllipticCurve([a, a, 0, 1263*a - 8032, 62956*a - 305877])\n",
    "print('E ainvariants = ', E.a_invariants())\n",
    "print(\"Minimal discriminant ideal = \", E.minimal_discriminant_ideal().factor())\n",
    "print('Discriminant of E = ', K.ideal(E.discriminant()).factor())\n",
    "tau = [a/5, -(a + 4)/5, -2*a/5, (11*a/5 + 7)/5]\n",
    "Etau = E.change_weierstrass_model(tau)\n",
    "print('Etau ainvariants = ', Etau.a_invariants())\n",
    "print('Discriminant of Etau = ', K.ideal(Etau.discriminant()).factor())\n",
    "print('Weierstrass Class = ', weierstrass_class(E))"
   ]
  },
  {
   "cell_type": "markdown",
   "metadata": {
    "collapsed": false
   },
   "source": [
    "#### Remark 2.19\n",
    "\n",
    "To check this remark we can compute the j-invariants.\n",
    "\n"
   ]
  },
  {
   "cell_type": "code",
   "execution_count": 4,
   "metadata": {
    "collapsed": false
   },
   "outputs": [
    {
     "name": "stdout",
     "output_type": "stream",
     "text": [
      "p =  2\n",
      "  t0 =  1\n",
      "    j1(t0) =  16974593\n",
      "    j2(t0) =  4913\n",
      "  t0 =  4096\n",
      "    j1(t0) =  4913\n",
      "    j2(t0) =  16974593\n",
      "  t0 =  -1\n",
      "    j1(t0) =  16581375\n",
      "    j2(t0) =  -3375\n",
      "  t0 =  -4096\n",
      "    j1(t0) =  -3375\n",
      "    j2(t0) =  16581375\n",
      "p =  3\n",
      "  t0 =  1\n",
      "    j1(t0) =  406749952\n",
      "    j2(t0) =  1792\n",
      "  t0 =  729\n",
      "    j1(t0) =  1792\n",
      "    j2(t0) =  406749952\n",
      "  t0 =  -1\n",
      "    j1(t0) =  -368484688\n",
      "    j2(t0) =  -208\n",
      "  t0 =  -729\n",
      "    j1(t0) =  -208\n",
      "    j2(t0) =  -368484688\n",
      "p =  5\n",
      "  t0 =  1\n",
      "    j1(t0) =  38477541376\n",
      "    j2(t0) =  4096\n",
      "  t0 =  125\n",
      "    j1(t0) =  4096\n",
      "    j2(t0) =  38477541376\n",
      "  t0 =  -1\n",
      "    j1(t0) =  -23788477376\n",
      "    j2(t0) =  64\n",
      "  t0 =  -125\n",
      "    j1(t0) =  64\n",
      "    j2(t0) =  -23788477376\n",
      "p =  7\n",
      "  t0 =  1\n",
      "    j1(t0) =  1168429123449\n",
      "    j2(t0) =  21609\n",
      "  t0 =  49\n",
      "    j1(t0) =  21609\n",
      "    j2(t0) =  1168429123449\n",
      "  t0 =  -1\n",
      "    j1(t0) =  -371323264041\n",
      "    j2(t0) =  999\n",
      "  t0 =  -49\n",
      "    j1(t0) =  999\n",
      "    j2(t0) =  -371323264041\n",
      "p =  13\n",
      "  t0 =  1\n",
      "    j1(t0) =  2045023375454208\n",
      "    j2(t0) =  2101248\n",
      "  t0 =  13\n",
      "    j1(t0) =  2101248\n",
      "    j2(t0) =  2045023375454208\n",
      "  t0 =  -1\n",
      "    j1(t0) =  -39091613782464\n",
      "    j2(t0) =  576\n",
      "  t0 =  -13\n",
      "    j1(t0) =  576\n",
      "    j2(t0) =  -39091613782464\n"
     ]
    }
   ],
   "source": [
    "load('explicit_isogeny_models.sage')\n",
    "for p in [2, 3, 5, 7, 13]:\n",
    "    print('p = ', p)\n",
    "    ppow = p^(12/(p-1))\n",
    "    for t0 in [1, ppow, -1, -ppow]:\n",
    "        print('  t0 = ', t0)\n",
    "        E1, E2 = isog_curves(p, t0, 1)\n",
    "        print('    j1(t0) = ', E1.j_invariant())\n",
    "        print('    j2(t0) = ', E2.j_invariant())"
   ]
  },
  {
   "cell_type": "markdown",
   "metadata": {
    "collapsed": false
   },
   "source": [
    "## Section 3\n",
    "\n",
    "#### Lemma 3.2\n",
    "\n",
    "For Lemma 3.2 we compute the classical modular polynomials, $\\Phi_{p}(x, y)$ for $p \\in \\{2, 3, 5, 7, 13\\}$, as taken from https://math.mit.edu/~drew/ClassicalModPolys.html and then evaluate them at $x = j$ and then compute the valuation of $y-j$ for each polynomial.\n"
   ]
  },
  {
   "cell_type": "code",
   "execution_count": 55,
   "metadata": {
    "collapsed": false
   },
   "outputs": [
    {
     "name": "stdout",
     "output_type": "stream",
     "text": [
      "j =  0\n",
      "  p =  3 valuation 1 at factor y\n",
      "  p =  7 valuation 2 at factor y\n",
      "  p =  13 valuation 2 at factor y\n",
      "\n",
      "j =  1728\n",
      "  p =  2 valuation 1 at factor y - 1728\n",
      "  p =  5 valuation 2 at factor y - 1728\n",
      "  p =  13 valuation 2 at factor y - 1728\n",
      "\n"
     ]
    }
   ],
   "source": [
    "load('modular_polynomial.sage')\n",
    "plist = [2, 3, 5, 7, 13]\n",
    "Tplist = [T2, T3, T5, T7, T13]\n",
    "for j in [0, 1728]:\n",
    "    print('j = ', j)\n",
    "    for p, Tp in zip(plist, Tplist):\n",
    "        phip(x, y) = modpoly(Tp)\n",
    "        facs = phip(j, y).factor_list()\n",
    "        for f, e in facs:\n",
    "            if f == y - j:\n",
    "                print('  p = ', p , 'valuation %s at factor %s'%(e, f))\n",
    "    print()"
   ]
  },
  {
   "cell_type": "markdown",
   "metadata": {
    "collapsed": false
   },
   "source": [
    "#### Example 3.3\n",
    "\n",
    "Here we examine two curves over $\\mathbb{Q}$ and then over $\\mathbb{Q}(\\zeta_3)$ where $\\zeta_3 = \\frac{-1 + \\sqrt{-3}}{2}$.\n",
    "\n"
   ]
  },
  {
   "cell_type": "code",
   "execution_count": 6,
   "metadata": {
    "collapsed": false
   },
   "outputs": [
    {
     "name": "stdout",
     "output_type": "stream",
     "text": [
      "Isogeny degree between E1 and E2 over the rationals:  3\n",
      "Under base change the curves are now isomorphic:  True\n",
      "Elliptic Curve defined by y^2 = x^3 + (-108) over Number Field in z3 with defining polynomial x^2 + x + 1\n",
      "Elliptic Curve defined by y^2 = x^3 + 4 over Number Field in z3 with defining polynomial x^2 + x + 1\n",
      "Elliptic Curve defined by y^2 = x^3 + 4 over Number Field in z3 with defining polynomial x^2 + x + 1\n"
     ]
    }
   ],
   "source": [
    "E1 = EllipticCurve([0, -108])\n",
    "E2 = EllipticCurve([0, 4])\n",
    "# Check the curves are 3-isogenous:\n",
    "print('Isogeny degree between E1 and E2 over the rationals: ', E1.isogeny_degree(E2))\n",
    "P.<x> = QQ[]\n",
    "K.<z3> = NumberField(x^2 + x + 1)\n",
    "F1 = E1.change_ring(K)\n",
    "F2 = E2.change_ring(K)\n",
    "print('Under base change the curves are now isomorphic: ', F1.is_isomorphic(F2))\n",
    "print(F1)\n",
    "print(F1.change_weierstrass_model([z3 + 2, 0, 0, 0]))\n",
    "print(F2)"
   ]
  },
  {
   "cell_type": "markdown",
   "metadata": {
    "collapsed": false
   },
   "source": [
    "#### Lemma 3.5\n",
    "\n",
    "Given a number field, we can compute if it has discriminant ideal twins where both curves have  j-invariants 0 or 1728.\n",
    "\n"
   ]
  },
  {
   "cell_type": "code",
   "execution_count": 96,
   "metadata": {
    "collapsed": false
   },
   "outputs": [
    {
     "name": "stdout",
     "output_type": "stream",
     "text": [
      "Elliptic Curve defined by y^2 = x^3 + x over Number Field in a with defining polynomial x^2 - 2\n",
      "Elliptic Curve defined by y^2 = x^3 + (-1)*x over Number Field in a with defining polynomial x^2 - 2\n"
     ]
    }
   ],
   "source": [
    "load('utils.sage')\n",
    "P.<x> = QQ[]\n",
    "K.<a> = NumberField(x^2 - 2)\n",
    "DITs = discriminant_ideal_twins_special_j_invariants(K)\n",
    "for E1, E2 in DITs:\n",
    "    print(E1.global_minimal_model())\n",
    "    print(E2.global_minimal_model())"
   ]
  },
  {
   "cell_type": "markdown",
   "metadata": {
    "collapsed": false
   },
   "source": [
    "#### Example 3.7\n",
    "\n",
    "Elliptic curves over $\\mathbb{Q}(\\sqrt[4]{6})$ with j-invariants both $0$ or $1728$.\n",
    "\n"
   ]
  },
  {
   "cell_type": "code",
   "execution_count": 12,
   "metadata": {
    "collapsed": false
   },
   "outputs": [
    {
     "name": "stdout",
     "output_type": "stream",
     "text": [
      "Number Field in a with defining polynomial x^4 - 6\n",
      "Class number =  1\n",
      "(2) =  (Fractional ideal (2*a^3 - 3*a^2 + 5*a - 8))^4\n",
      "(3) =  (Fractional ideal (a^3 + a^2 + a + 3))^4\n",
      "0      (Fractional ideal (2*a^3 - 3*a^2 + 5*a - 8))^4\n",
      "0      (Fractional ideal (2*a^3 - 3*a^2 + 5*a - 8))^4\n",
      "1728      (Fractional ideal (2*a^3 - 3*a^2 + 5*a - 8))^12\n",
      "1728      (Fractional ideal (2*a^3 - 3*a^2 + 5*a - 8))^12\n"
     ]
    }
   ],
   "source": [
    "P.<x> = QQ[]\n",
    "K.<a> = NumberField(x^4 - 6)\n",
    "print(K)\n",
    "print(\"Class number = \", K.class_number())\n",
    "print(\"(2) = \", K.ideal(2).factor())\n",
    "print(\"(3) = \", K.ideal(3).factor())\n",
    "E10 = EllipticCurve(K, [0, 1])\n",
    "E20 = EllipticCurve(K, [0, -27])\n",
    "E11728 = EllipticCurve(K, [1, 0])\n",
    "E21728 = EllipticCurve(K, [-4, 0])\n",
    "for E in [E10, E20, E11728, E21728]:\n",
    "    print(E.j_invariant(), '    ', E.minimal_discriminant_ideal().factor())"
   ]
  },
  {
   "cell_type": "markdown",
   "metadata": {
    "collapsed": false
   },
   "source": [
    "#### Example 3.8\n",
    "\n",
    "Elliptic curves over $\\mathbb{Q}(\\sqrt[6]{2})$ with j-invariants both $0$ or $1728$.\n",
    "\n"
   ]
  },
  {
   "cell_type": "code",
   "execution_count": 15,
   "metadata": {
    "collapsed": false
   },
   "outputs": [
    {
     "name": "stdout",
     "output_type": "stream",
     "text": [
      "Number Field in a with defining polynomial x^6 - 2\n",
      "Class number =  1\n",
      "(2) =  (Fractional ideal (2, a))^6\n",
      "1728      (Fractional ideal (2, a))^12\n",
      "1728      (Fractional ideal (2, a))^24\n"
     ]
    }
   ],
   "source": [
    "P.<x> = QQ[]\n",
    "K.<a> = NumberField(x^6 - 2)\n",
    "print(K)\n",
    "print(\"Class number = \", K.class_number())\n",
    "print(\"(2) = \", K.ideal(2).factor())\n",
    "E11728 = EllipticCurve(K, [1, 0])\n",
    "E21728 = EllipticCurve(K, [-4, 0])\n",
    "for E in [E11728, E21728]:\n",
    "    print(E.j_invariant(), '    ', E.minimal_discriminant_ideal().factor())"
   ]
  },
  {
   "cell_type": "markdown",
   "metadata": {
    "collapsed": false
   },
   "source": [
    "#### Theorem 3.9\n",
    "\n",
    "Here is the code used to factor $p^p(j_{p, 1}(t) - j_{p, 2}(t))$ and find what $t_0$ lead to singular values, isomorphic curves, non-discriminat ideal twins, discriminant twins, and the CM fields for the non-isomorphic pairs of curves."
   ]
  },
  {
   "cell_type": "code",
   "execution_count": 32,
   "metadata": {
    "collapsed": false
   },
   "outputs": [
    {
     "name": "stdout",
     "output_type": "stream",
     "text": [
      "Singular j-invariants\n",
      "p =  2\n",
      "     t + 64\n",
      "p =  3\n",
      "     t + 27\n",
      "p =  5\n",
      "     t^2 + 22*t + 125\n",
      "p =  7\n",
      "     t^2 + 13*t + 49\n",
      "p =  13\n",
      "     t^2 + 6*t + 13\n",
      "p =  13\n",
      "     t^2 + 5*t + 13\n",
      "\n",
      "Isomorphic over K j-invariants\n",
      "p =  2\n",
      "  factor =  t^2 + 47*t + 4096\n",
      "  NF discriminant =  -7\n",
      "    j =  -3375\n",
      "    cm discriminant =  -7\n",
      "p =  3\n",
      "  factor =  t^2 + 46*t + 729\n",
      "  NF discriminant =  -8\n",
      "    j =  8000\n",
      "    cm discriminant =  -8\n",
      "p =  3\n",
      "  factor =  t^2 - 10*t + 729\n",
      "  NF discriminant =  -11\n",
      "    j =  -32768\n",
      "    cm discriminant =  -11\n",
      "p =  5\n",
      "  factor =  t^2 + 18*t + 125\n",
      "  NF discriminant =  -11\n",
      "    j =  -32768\n",
      "    cm discriminant =  -11\n",
      "p =  5\n",
      "  factor =  t^2 + 4*t + 125\n",
      "  NF discriminant =  -4\n",
      "    j =  287496\n",
      "    cm discriminant =  -16\n",
      "p =  5\n",
      "  factor =  t^2 - 14*t + 125\n",
      "  NF discriminant =  -19\n",
      "    j =  -884736\n",
      "    cm discriminant =  -19\n",
      "p =  7\n",
      "  factor =  t^4 + 10*t^3 + 51*t^2 + 490*t + 2401\n",
      "  NF discriminant =  576\n",
      "    j =  -284544/49*a^3 - 2845440/49*a^2 - 569088/49*a + 994752\n",
      "    cm discriminant =  -24\n",
      "p =  7\n",
      "  factor =  t^2 + 11*t + 49\n",
      "  NF discriminant =  -3\n",
      "    j =  54000\n",
      "    cm discriminant =  -12\n",
      "p =  7\n",
      "  factor =  t^2 + 5*t + 49\n",
      "  NF discriminant =  -19\n",
      "    j =  -884736\n",
      "    cm discriminant =  -19\n",
      "p =  7\n",
      "  factor =  t^2 - 11*t + 49\n",
      "  NF discriminant =  -3\n",
      "    j =  -12288000\n",
      "    cm discriminant =  -27\n"
     ]
    },
    {
     "name": "stdout",
     "output_type": "stream",
     "text": [
      "p =  13\n",
      "  factor =  t^4 + 6*t^3 + 23*t^2 + 78*t + 169\n",
      "  NF discriminant =  144\n",
      "    j =  -22165248/13*a^3 - 132991488/13*a^2 - 221652480/13*a + 10275264\n",
      "    cm discriminant =  -36\n",
      "p =  13\n",
      "  factor =  t^4 - t^3 - 12*t^2 - 13*t + 169\n",
      "  NF discriminant =  2601\n",
      "    j =  447971328/13*a^3 - 447971328/13*a^2 - 11199283200/13*a - 2994536448\n",
      "    cm discriminant =  -51\n",
      "p =  13\n",
      "  factor =  t^4 - t^2 + 169\n",
      "  NF discriminant =  144\n",
      "    j =  -272875500/13*a^3 + 3820257000/13*a + 1417905000\n",
      "    cm discriminant =  -48\n",
      "p =  13\n",
      "  factor =  t^2 + 7*t + 13\n",
      "  NF discriminant =  -3\n",
      "    j =  54000\n",
      "    cm discriminant =  -12\n",
      "p =  13\n",
      "  factor =  t^2 + 4*t + 13\n",
      "  NF discriminant =  -4\n",
      "    j =  287496\n",
      "    cm discriminant =  -16\n",
      "p =  13\n",
      "  factor =  t^2 + 2*t + 13\n",
      "  NF discriminant =  -3\n",
      "    j =  -12288000\n",
      "    cm discriminant =  -27\n",
      "p =  13\n",
      "  factor =  t^2 - 3*t + 13\n",
      "  NF discriminant =  -43\n",
      "    j =  -884736000\n",
      "    cm discriminant =  -43\n",
      "\n",
      "Non-Isomorphic over K j-invariants\n",
      "p =  2\n",
      "  factor =  t - 64\n",
      "    j =  8000\n",
      "    cm discriminant =  -8\n",
      "      Not Discriminant Ideal Twins\n",
      "      D1 =  Principal ideal (512) of Integer Ring\n",
      "      D2 =  Principal ideal (32768) of Integer Ring\n",
      "p =  3\n",
      "  factor =  t - 27\n",
      "    j =  54000\n",
      "    cm discriminant =  -12\n",
      "      Not Discriminant Ideal Twins\n",
      "      D1 =  Principal ideal (6912) of Integer Ring\n",
      "      D2 =  Principal ideal (5038848) of Integer Ring\n",
      "p =  5\n",
      "  factor =  t^2 - 125\n",
      "  NF discriminant =  5\n",
      "    j =  56576*a + 632000\n",
      "    cm discriminant =  -20\n",
      "      Discriminant Ideal Twins\n",
      "      D1 =  Fractional ideal (64)\n",
      "p =  7\n",
      "  factor =  t + 7\n",
      "    j =  -3375\n",
      "    cm discriminant =  -7\n",
      "      Not Discriminant Ideal Twins\n",
      "      D1 =  Principal ideal (40353607) of Integer Ring\n",
      "      D2 =  Principal ideal (343) of Integer Ring\n",
      "p =  7\n",
      "  factor =  t - 7\n",
      "    j =  16581375\n",
      "    cm discriminant =  -28\n",
      "      Not Discriminant Ideal Twins\n",
      "      D1 =  Principal ideal (120495224844288) of Integer Ring\n",
      "      D2 =  Principal ideal (1024192512) of Integer Ring\n",
      "p =  13\n",
      "  factor =  t^2 - 13\n",
      "  NF discriminant =  13\n",
      "    j =  956448000*a + 3448440000\n",
      "    cm discriminant =  -52\n",
      "      Discriminant Ideal Twins\n",
      "      D1 =  Fractional ideal (-1195168*a - 2038816)\n"
     ]
    }
   ],
   "source": [
    "load('explicit_isogeny_models.sage')\n",
    "t = var('t')\n",
    "print(\"Singular j-invariants\")\n",
    "for p in [2, 3, 5, 7, 13]:\n",
    "    E1, E2 = isog_curves(p, t, 1)\n",
    "    jdiff = t^p*(E1.j_invariant() - E2.j_invariant())\n",
    "    for fj, ej in jdiff.factor_list():\n",
    "        if fj.degree(t) > 1:\n",
    "            K.<a> = NumberField(fj)\n",
    "            t0 = a\n",
    "        if fj.degree(t) == 1:\n",
    "            t0 = QQ(fj.roots()[0][0])\n",
    "        if fj.degree(t) < 1: continue\n",
    "        try:\n",
    "            Isog = isog_curves(p, t0, 1)\n",
    "            jinvs = [C.j_invariant() for C in Isog]\n",
    "        except ArithmeticError:\n",
    "            print('p = ', p)\n",
    "            print('    ', fj)\n",
    "\n",
    "print()\n",
    "print(\"Isomorphic over K j-invariants\")\n",
    "for p in [2, 3, 5, 7, 13]:\n",
    "    E1, E2 = isog_curves(p, t, 1)\n",
    "    jdiff = t^p*(E1.j_invariant() - E2.j_invariant())\n",
    "    for fj, ej in jdiff.factor_list():\n",
    "        if fj.degree(t) > 1:\n",
    "            K.<a> = NumberField(fj)\n",
    "            t0 = a\n",
    "        if fj.degree(t) == 1:\n",
    "            t0 = QQ(fj.roots()[0][0])\n",
    "        if fj.degree(t) < 1: continue\n",
    "        try:\n",
    "            Isog = isog_curves(p, t0, 1)\n",
    "            jinvs = [C.j_invariant() for C in Isog]\n",
    "            if Isog[0].is_isomorphic(Isog[1]):\n",
    "                print('p = ', p)\n",
    "                print('  factor = ', fj)\n",
    "                if fj.degree(t) > 1:\n",
    "                    print('  NF discriminant = ', K.discriminant())\n",
    "                print('    j = ', jinvs[0])\n",
    "                print('    cm discriminant = ', Isog[0].cm_discriminant())\n",
    "            else:\n",
    "                continue\n",
    "        except:\n",
    "            continue\n",
    "\n",
    "print()\n",
    "print(\"Non-Isomorphic over K j-invariants\")\n",
    "for p in [2, 3, 5, 7, 13]:\n",
    "    E1, E2 = isog_curves(p, t, 1)\n",
    "    jdiff = t^p*(E1.j_invariant() - E2.j_invariant())\n",
    "    for fj, ej in jdiff.factor_list():\n",
    "        if fj.degree(t) > 1:\n",
    "            K.<a> = NumberField(fj)\n",
    "            t0 = a\n",
    "        if fj.degree(t) == 1:\n",
    "            t0 = QQ(fj.roots()[0][0])\n",
    "        if fj.degree(t) < 1: continue\n",
    "        try:\n",
    "            Isog = isog_curves(p, t0, 1)\n",
    "            jinvs = [C.j_invariant() for C in Isog]\n",
    "            if Isog[0].is_isomorphic(Isog[1]):\n",
    "                continue\n",
    "            else:\n",
    "                print('p = ', p)\n",
    "                print('  factor = ', fj)\n",
    "                if fj.degree(t) > 1:\n",
    "                    print('  NF discriminant = ', K.discriminant())\n",
    "                print('    j = ', jinvs[0])\n",
    "                print('    cm discriminant = ', Isog[0].cm_discriminant())\n",
    "                D1 = Isog[0].minimal_discriminant_ideal()\n",
    "                D2 = Isog[1].minimal_discriminant_ideal()\n",
    "                if D1 != D2:\n",
    "                    print('      Not Discriminant Ideal Twins')\n",
    "                    print('      D1 = ', D1)\n",
    "                    print('      D2 = ', D2)\n",
    "                else:\n",
    "                    print('      Discriminant Ideal Twins')\n",
    "                    print('      D1 = ', D1)\n",
    "        except:\n",
    "            continue\n"
   ]
  },
  {
   "cell_type": "markdown",
   "metadata": {
    "collapsed": false
   },
   "source": [
    "## Section 4"
   ]
  },
  {
   "cell_type": "markdown",
   "metadata": {
    "collapsed": false
   },
   "source": [
    "#### Example 4.10\n",
    "\n",
    "Examples that show the converse theorem, Theorem 4.8, doesn't hold for $p = 2$."
   ]
  },
  {
   "cell_type": "code",
   "execution_count": 24,
   "metadata": {
    "collapsed": false
   },
   "outputs": [
    {
     "name": "stdout",
     "output_type": "stream",
     "text": [
      "Number Field in a with defining polynomial x^5 - 2\n",
      "Class Number =  1\n",
      "Unit Group =  Unit group with structure C2 x Z x Z of Number Field in a with defining polynomial x^5 - 2\n",
      "Unit generators =  (a^3 + a^2 - 1, a - 1)\n",
      "k =  2  t0 =  16*a^4\n",
      "  Discriminants equal? True\n",
      "  Valuation of minimal discriminant ideal at (a) =  24\n",
      "  Kodaira-Neron type at (a) =  I4*\n",
      "  Valuation of minimal discriminant ideal at (a) =  24\n",
      "  Kodaira-Neron type at (a) =  II*\n",
      "k =  3  t0 =  128*a\n",
      "  Discriminants equal? False\n",
      "  Valuation of minimal discriminant ideal at (a) =  30\n",
      "  Kodaira-Neron type at (a) =  I4*\n",
      "  Valuation of minimal discriminant ideal at (a) =  42\n",
      "  Kodaira-Neron type at (a) =  I16*\n"
     ]
    }
   ],
   "source": [
    "load('explicit_isogeny_models.sage')\n",
    "P.<x> = QQ[]\n",
    "K.<a> = NumberField(x^5 - 2)\n",
    "fp = K.ideal(a)\n",
    "print(K)\n",
    "print(\"Class Number = \", K.class_number())\n",
    "print(\"Unit Group = \", K.unit_group())\n",
    "UKgens = K.units()\n",
    "print(\"Unit generators = \", UKgens)\n",
    "for k in [2, 3]:\n",
    "    t0 = a^(12*k)\n",
    "    print('k = ', k, ' t0 = ', t0)\n",
    "    E1, E2 = isog_curves(2, t0, 1)\n",
    "    print('  Discriminants equal?', E1.global_minimal_model().discriminant() == E2.global_minimal_model().discriminant())\n",
    "    for E in [E1, E2]:\n",
    "        print('  Valuation of minimal discriminant ideal at (a) = ', E.global_minimal_model().discriminant().valuation(fp))\n",
    "        print('  Kodaira-Neron type at (a) = ', E.kodaira_symbol(fp))"
   ]
  },
  {
   "cell_type": "markdown",
   "metadata": {
    "collapsed": false
   },
   "source": [
    "## Section 5"
   ]
  },
  {
   "cell_type": "markdown",
   "metadata": {
    "collapsed": false
   },
   "source": [
    "#### Proposition 5.1\n",
    "\n",
    "Here we give an implementation of the algorithm to find all $p$-isogenous discriminant ideal twins defined over $\\mathbb{Q}$ when $X_0(p)$ has genus 1."
   ]
  },
  {
   "cell_type": "code",
   "execution_count": 4,
   "metadata": {
    "collapsed": false
   },
   "outputs": [
    {
     "name": "stdout",
     "output_type": "stream",
     "text": [
      "j-invariants =  (4913, 16974593)\n",
      "  Isogeny Degree = 2,  D1/D2 = 1\n",
      "j-invariants =  (-3375, 16581375)\n",
      "  Isogeny Degree = 2,  D1/D2 = -1\n",
      "j-invariants =  (1792, 406749952)\n",
      "  Isogeny Degree = 3,  D1/D2 = 1\n",
      "j-invariants =  (-368484688, -208)\n",
      "  Isogeny Degree = 3,  D1/D2 = 1\n",
      "j-invariants =  (4096, 38477541376)\n",
      "  Isogeny Degree = 5,  D1/D2 = 1\n",
      "j-invariants =  (-23788477376, 64)\n"
     ]
    },
    {
     "name": "stdout",
     "output_type": "stream",
     "text": [
      "  Isogeny Degree = 5,  D1/D2 = 1\n",
      "j-invariants =  (21609, 1168429123449)\n",
      "  Isogeny Degree = 7,  D1/D2 = 1\n",
      "j-invariants =  (-371323264041, 999)\n",
      "  Isogeny Degree = 7,  D1/D2 = 1\n",
      "j-invariants =  (2101248, 2045023375454208)\n",
      "  Isogeny Degree = 13,  D1/D2 = 1\n",
      "j-invariants =  (-39091613782464, 576)\n",
      "  Isogeny Degree = 13,  D1/D2 = 1\n"
     ]
    }
   ],
   "source": [
    "load('utils.sage')\n",
    "DITpairs = discriminant_ideal_twins(QQ)\n",
    "from collections import defaultdict\n",
    "DITjinvs = defaultdict(list)\n",
    "for E1, E2 in DITpairs:\n",
    "    E1 = E1.global_minimal_model()\n",
    "    E2 = E2.global_minimal_model()\n",
    "    j1 = E1.j_invariant()\n",
    "    j2 = E2.j_invariant()\n",
    "    jj = tuple(sorted([j1, j2]))\n",
    "    DITjinvs[jj].append([E1, E2])\n",
    "for jj in DITjinvs:\n",
    "    print('j-invariants = ', jj)\n",
    "    for E1, E2 in DITjinvs[jj]:\n",
    "        print('  Isogeny Degree = %s,  D1/D2 = %s'%(E1.isogeny_degree(E2), E1.discriminant()/E2.discriminant()))"
   ]
  },
  {
   "cell_type": "markdown",
   "metadata": {
    "collapsed": false
   },
   "source": [
    "#### Proposition 5.2\n",
    "\n",
    "Following Proposition 5.2 we give an implementation of the algorithm to compute all $p$-isogenous discriminant ideal twins, for $p \\in \\{2, 3, 5, 7, 13\\}$ over an imaginary quadratic number field.\n",
    "\n",
    "#### Corollary 5.4\n",
    "We use the algorithm from Proposition 5.2 to compute all the discriminant ideal twins for $\\mathbb{Q}(\\sqrt{-33})$."
   ]
  },
  {
   "cell_type": "code",
   "execution_count": 7,
   "metadata": {
    "collapsed": false
   },
   "outputs": [
    {
     "name": "stdout",
     "output_type": "stream",
     "text": [
      "j-invariants =  (0, 0)\n"
     ]
    },
    {
     "name": "stdout",
     "output_type": "stream",
     "text": [
      "  Isogeny Degree = 3,  D1/D2 = Fractional ideal (1)\n",
      "j-invariants =  (1728, 1728)\n"
     ]
    },
    {
     "name": "stdout",
     "output_type": "stream",
     "text": [
      "  Isogeny Degree = 2,  D1/D2 = Fractional ideal (1)\n",
      "j-invariants =  (-3375, 16581375)\n",
      "  Isogeny Degree = 2,  D1/D2 = Fractional ideal (1)\n",
      "j-invariants =  (4913, 16974593)\n",
      "  Isogeny Degree = 2,  D1/D2 = Fractional ideal (1)\n",
      "j-invariants =  (8000, 8000)\n",
      "  Isogeny Degree = 2,  D1/D2 = Fractional ideal (1)\n",
      "j-invariants =  (-368484688, -208)\n",
      "  Isogeny Degree = 3,  D1/D2 = Fractional ideal (1)\n",
      "j-invariants =  (1792, 406749952)\n",
      "  Isogeny Degree = 3,  D1/D2 = Fractional ideal (1)\n",
      "j-invariants =  (54000, 54000)\n",
      "  Isogeny Degree = 3,  D1/D2 = Fractional ideal (1)\n",
      "j-invariants =  (-23788477376, 64)\n",
      "  Isogeny Degree = 5,  D1/D2 = Fractional ideal (1)\n",
      "j-invariants =  (4096, 38477541376)\n",
      "  Isogeny Degree = 5,  D1/D2 = Fractional ideal (1)\n",
      "j-invariants =  (-371323264041, 999)\n",
      "  Isogeny Degree = 7,  D1/D2 = Fractional ideal (1)\n",
      "  Isogeny Degree = 7,  D1/D2 = Fractional ideal (1)\n",
      "j-invariants =  (21609, 1168429123449)\n",
      "  Isogeny Degree = 7,  D1/D2 = Fractional ideal (1)\n",
      "  Isogeny Degree = 7,  D1/D2 = Fractional ideal (1)\n",
      "j-invariants =  (-1509417*a - 1404060, 1509417*a - 1404060)\n",
      "  Isogeny Degree = 7,  D1/D2 = Fractional ideal (1)\n",
      "  Isogeny Degree = 7,  D1/D2 = Fractional ideal (1)\n",
      "j-invariants =  (-53865*a - 72900, 53865*a - 72900)\n",
      "  Isogeny Degree = 7,  D1/D2 = Fractional ideal (1)\n",
      "  Isogeny Degree = 7,  D1/D2 = Fractional ideal (1)\n",
      "j-invariants =  (-39091613782464, 576)\n",
      "  Isogeny Degree = 13,  D1/D2 = Fractional ideal (1)\n",
      "j-invariants =  (2101248, 2045023375454208)\n",
      "  Isogeny Degree = 13,  D1/D2 = Fractional ideal (1)\n"
     ]
    }
   ],
   "source": [
    "load('utils.sage')\n",
    "P.<x> = QQ[]\n",
    "K.<a> = NumberField(x^2 + 33)\n",
    "DITpairs = discriminant_ideal_twins(K)\n",
    "from collections import defaultdict\n",
    "DITjinvs = defaultdict(list)\n",
    "for E1, E2 in DITpairs:\n",
    "    j1 = E1.j_invariant()\n",
    "    j2 = E2.j_invariant()\n",
    "    jj = tuple(sorted([j1, j2]))\n",
    "    D1 = E1.minimal_discriminant_ideal()\n",
    "    D2 = E2.minimal_discriminant_ideal()\n",
    "    DITjinvs[jj].append([E1, E2])\n",
    "for jj in DITjinvs:\n",
    "    print('j-invariants = ', jj)\n",
    "    for E1, E2 in DITjinvs[jj]:\n",
    "        print('  Isogeny Degree = %s,  D1/D2 = %s'%(E1.isogeny_degree(E2), D1/D2))"
   ]
  },
  {
   "cell_type": "markdown",
   "metadata": {
    "collapsed": false
   },
   "source": [
    "#### Proposition 5.5\n",
    "We use the algorithm from Proposition 5.2 to compute all the discriminant ideal twins for $\\mathbb{Q}(\\sqrt{-1})$ and $\\mathbb{Q}(\\zeta_3)$."
   ]
  },
  {
   "cell_type": "code",
   "execution_count": 13,
   "metadata": {
    "collapsed": false
   },
   "outputs": [
    {
     "name": "stdout",
     "output_type": "stream",
     "text": [
      "j-invariants =  (-16973823*zeta3 - 16776447, -4047*zeta3 + 816)\n",
      "  Isogeny Degree = 2,  D1/D2 = Fractional ideal (1)\n",
      "  Isogeny Degree = 2,  D1/D2 = Fractional ideal (1)\n",
      "j-invariants =  (16580609*zeta3 - 195840, -4049*zeta3 - 3329)\n",
      "  Isogeny Degree = 2,  D1/D2 = Fractional ideal (1)\n",
      "  Isogeny Degree = 2,  D1/D2 = Fractional ideal (1)\n",
      "j-invariants =  (-3375, 16581375)\n",
      "  Isogeny Degree = 2,  D1/D2 = Fractional ideal (1)\n",
      "j-invariants =  (-16580609*zeta3 - 16776449, 4049*zeta3 + 720)\n",
      "  Isogeny Degree = 2,  D1/D2 = Fractional ideal (1)\n",
      "  Isogeny Degree = 2,  D1/D2 = Fractional ideal (1)\n",
      "j-invariants =  (16973823*zeta3 + 197376, 4047*zeta3 + 4863)\n",
      "  Isogeny Degree = 2,  D1/D2 = Fractional ideal (1)\n",
      "  Isogeny Degree = 2,  D1/D2 = Fractional ideal (1)\n",
      "j-invariants =  (4913, 16974593)\n",
      "  Isogeny Degree = 2,  D1/D2 = Fractional ideal (1)\n",
      "j-invariants =  (-19328705*zeta3 - 406551608, -423*zeta3 + 1025)\n",
      "  Isogeny Degree = 3,  D1/D2 = Fractional ideal (1)\n",
      "  Isogeny Degree = 3,  D1/D2 = Fractional ideal (1)\n",
      "j-invariants =  (-495*zeta3 - 8, 18935047*zeta3 + 387224415)\n",
      "  Isogeny Degree = 3,  D1/D2 = Fractional ideal (1)\n",
      "  Isogeny Degree = 3,  D1/D2 = Fractional ideal (1)\n",
      "j-invariants =  (-368484688, -208)\n",
      "  Isogeny Degree = 3,  D1/D2 = Fractional ideal (1)\n",
      "j-invariants =  (495*zeta3 + 487, -18935047*zeta3 + 368289368)\n",
      "  Isogeny Degree = 3,  D1/D2 = Fractional ideal (1)\n",
      "  Isogeny Degree = 3,  D1/D2 = Fractional ideal (1)\n",
      "j-invariants =  (19328705*zeta3 - 387222903, 423*zeta3 + 1448)\n",
      "  Isogeny Degree = 3,  D1/D2 = Fractional ideal (1)\n",
      "  Isogeny Degree = 3,  D1/D2 = Fractional ideal (1)\n",
      "j-invariants =  (1792, 406749952)\n",
      "  Isogeny Degree = 3,  D1/D2 = Fractional ideal (1)\n",
      "j-invariants =  (-33507*zeta3 - 45144, 33507*zeta3 - 11637)\n",
      "  Isogeny Degree = 3,  D1/D2 = Fractional ideal (1)\n",
      "  Isogeny Degree = 3,  D1/D2 = Fractional ideal (1)\n",
      "j-invariants =  (-18981*zeta3 - 5832, 18981*zeta3 + 13149)\n",
      "  Isogeny Degree = 3,  D1/D2 = Fractional ideal (1)\n",
      "  Isogeny Degree = 3,  D1/D2 = Fractional ideal (1)\n",
      "j-invariants =  (2719*zeta3 + 1980, 37821287501*zeta3 + 29882032001)\n",
      "  Isogeny Degree = 5,  D1/D2 = Fractional ideal (1)\n",
      "  Isogeny Degree = 5,  D1/D2 = Fractional ideal (1)\n",
      "j-invariants =  (23213475001*zeta3 - 6709180500, 179*zeta3 - 361)\n",
      "  Isogeny Degree = 5,  D1/D2 = Fractional ideal (1)\n",
      "  Isogeny Degree = 5,  D1/D2 = Fractional ideal (1)\n",
      "j-invariants =  (-23788477376, 64)\n",
      "  Isogeny Degree = 5,  D1/D2 = Fractional ideal (1)\n",
      "j-invariants =  (-23213475001*zeta3 - 29922655501, -179*zeta3 - 540)\n",
      "  Isogeny Degree = 5,  D1/D2 = Fractional ideal (1)\n",
      "  Isogeny Degree = 5,  D1/D2 = Fractional ideal (1)\n",
      "j-invariants =  (-2719*zeta3 - 739, -37821287501*zeta3 - 7939255500)\n",
      "  Isogeny Degree = 5,  D1/D2 = Fractional ideal (1)\n",
      "  Isogeny Degree = 5,  D1/D2 = Fractional ideal (1)\n",
      "j-invariants =  (4096, 38477541376)\n",
      "  Isogeny Degree = 5,  D1/D2 = Fractional ideal (1)\n",
      "j-invariants =  (10368*zeta3 - 3024, -576310764672*zeta3 + 477796472496)\n",
      "  Isogeny Degree = 7,  D1/D2 = Fractional ideal (1)\n",
      "  Isogeny Degree = 7,  D1/D2 = Fractional ideal (1)\n",
      "j-invariants =  (-598221714432*zeta3 - 300947514624, -3072*zeta3 - 2304)\n",
      "  Isogeny Degree = 7,  D1/D2 = Fractional ideal (1)\n",
      "  Isogeny Degree = 7,  D1/D2 = Fractional ideal (1)\n",
      "j-invariants =  (-371323264041, 999)\n",
      "  Isogeny Degree = 7,  D1/D2 = Fractional ideal (1)\n",
      "  Isogeny Degree = 7,  D1/D2 = Fractional ideal (1)\n",
      "j-invariants =  (598221714432*zeta3 + 297274199808, 3072*zeta3 + 768)\n",
      "  Isogeny Degree = 7,  D1/D2 = Fractional ideal (1)\n",
      "  Isogeny Degree = 7,  D1/D2 = Fractional ideal (1)\n",
      "j-invariants =  (-10368*zeta3 - 13392, 576310764672*zeta3 + 1054107237168)\n",
      "  Isogeny Degree = 7,  D1/D2 = Fractional ideal (1)\n",
      "  Isogeny Degree = 7,  D1/D2 = Fractional ideal (1)\n",
      "j-invariants =  (21609, 1168429123449)\n",
      "  Isogeny Degree = 7,  D1/D2 = Fractional ideal (1)\n",
      "  Isogeny Degree = 7,  D1/D2 = Fractional ideal (1)\n",
      "j-invariants =  (-1945944*zeta3 - 1705077, 1945944*zeta3 + 240867)\n",
      "  Isogeny Degree = 7,  D1/D2 = Fractional ideal (1)\n",
      "  Isogeny Degree = 7,  D1/D2 = Fractional ideal (1)\n",
      "j-invariants =  (-2260440*zeta3 + 2175405, 2260440*zeta3 + 4435845)\n",
      "  Isogeny Degree = 7,  D1/D2 = Fractional ideal (1)\n",
      "  Isogeny Degree = 7,  D1/D2 = Fractional ideal (1)\n",
      "j-invariants =  (-16982784*zeta3 - 11720592, 16982784*zeta3 + 5262192)\n",
      "  Isogeny Degree = 7,  D1/D2 = Fractional ideal (1)\n",
      "  Isogeny Degree = 7,  D1/D2 = Fractional ideal (1)\n",
      "j-invariants =  (-695616*zeta3 - 399120, 576859107555264*zeta3 + 998992549501680)\n",
      "  Isogeny Degree = 13,  D1/D2 = Fractional ideal (1)\n",
      "  Isogeny Degree = 13,  D1/D2 = Fractional ideal (1)\n",
      "j-invariants =  (20736*zeta3 + 13824, -37044659937024*zeta3 + 90029813865984)\n",
      "  Isogeny Degree = 13,  D1/D2 = Fractional ideal (1)\n",
      "  Isogeny Degree = 13,  D1/D2 = Fractional ideal (1)\n",
      "j-invariants =  (-39091613782464, 576)\n",
      "  Isogeny Degree = 13,  D1/D2 = Fractional ideal (1)\n",
      "  Isogeny Degree = 13,  D1/D2 = Fractional ideal (1)\n",
      "j-invariants =  (-20736*zeta3 - 6912, 37044659937024*zeta3 + 127074473803008)\n",
      "  Isogeny Degree = 13,  D1/D2 = Fractional ideal (1)\n",
      "  Isogeny Degree = 13,  D1/D2 = Fractional ideal (1)\n",
      "j-invariants =  (695616*zeta3 + 296496, -576859107555264*zeta3 + 422133441946416)\n",
      "  Isogeny Degree = 13,  D1/D2 = Fractional ideal (1)\n",
      "  Isogeny Degree = 13,  D1/D2 = Fractional ideal (1)\n",
      "j-invariants =  (2101248, 2045023375454208)\n",
      "  Isogeny Degree = 13,  D1/D2 = Fractional ideal (1)\n",
      "  Isogeny Degree = 13,  D1/D2 = Fractional ideal (1)\n",
      "j-invariants =  (-520805376*zeta3 - 404768448, 520805376*zeta3 + 116036928)\n",
      "  Isogeny Degree = 13,  D1/D2 = Fractional ideal (1)\n",
      "  Isogeny Degree = 13,  D1/D2 = Fractional ideal (1)\n",
      "j-invariants =  (-934053120*zeta3 + 1982683440, 934053120*zeta3 + 2916736560)\n",
      "  Isogeny Degree = 13,  D1/D2 = Fractional ideal (1)\n",
      "  Isogeny Degree = 13,  D1/D2 = Fractional ideal (1)\n",
      "j-invariants =  (-6697506816*zeta3 - 5868496128, 6697506816*zeta3 + 829010688)\n",
      "  Isogeny Degree = 13,  D1/D2 = Fractional ideal (1)\n",
      "  Isogeny Degree = 13,  D1/D2 = Fractional ideal (1)\n"
     ]
    }
   ],
   "source": [
    "load('utils.sage')\n",
    "P.<x> = QQ[]\n",
    "# This field contains zeta_3\n",
    "K.<zeta3> = NumberField(x^2 + x + 1)\n",
    "DITpairs = discriminant_ideal_twins(K)\n",
    "from collections import defaultdict\n",
    "DITjinvs = defaultdict(list)\n",
    "for E1, E2 in DITpairs:\n",
    "    j1 = E1.j_invariant()\n",
    "    j2 = E2.j_invariant()\n",
    "    jj = tuple(sorted([j1, j2]))\n",
    "    D1 = E1.minimal_discriminant_ideal()\n",
    "    D2 = E2.minimal_discriminant_ideal()\n",
    "    DITjinvs[jj].append([E1, E2])\n",
    "for jj in DITjinvs:\n",
    "    print('j-invariants = ', jj)\n",
    "    for E1, E2 in DITjinvs[jj]:\n",
    "        print('  Isogeny Degree = %s,  D1/D2 = %s'%(E1.isogeny_degree(E2), D1/D2))"
   ]
  },
  {
   "cell_type": "code",
   "execution_count": 12,
   "metadata": {
    "collapsed": false
   },
   "outputs": [
    {
     "name": "stdout",
     "output_type": "stream",
     "text": [
      "j-invariants =  (-196607*i - 16776448, -4048*i + 767)\n",
      "  Isogeny Degree = 2,  D1/D2 = Fractional ideal (1)\n",
      "  Isogeny Degree = 2,  D1/D2 = Fractional ideal (1)\n",
      "j-invariants =  (-3375, 16581375)\n",
      "  Isogeny Degree = 2,  D1/D2 = Fractional ideal (1)\n",
      "j-invariants =  (196607*i - 16776448, 4048*i + 767)\n",
      "  Isogeny Degree = 2,  D1/D2 = Fractional ideal (1)\n",
      "  Isogeny Degree = 2,  D1/D2 = Fractional ideal (1)\n",
      "j-invariants =  (4913, 16974593)\n",
      "  Isogeny Degree = 2,  D1/D2 = Fractional ideal (1)\n",
      "j-invariants =  (-3008*i - 3328, 3008*i - 3328)\n",
      "  Isogeny Degree = 2,  D1/D2 = Fractional ideal (1)\n",
      "  Isogeny Degree = 2,  D1/D2 = Fractional ideal (1)\n",
      "j-invariants =  (8000, 8000)\n",
      "  Isogeny Degree = 2,  D1/D2 = Fractional ideal (1)\n",
      "j-invariants =  (387223660*i - 19131120, -460*i + 720)\n",
      "  Isogeny Degree = 3,  D1/D2 = Fractional ideal (1)\n",
      "  Isogeny Degree = 3,  D1/D2 = Fractional ideal (1)\n",
      "j-invariants =  (-368484688, -208)\n",
      "  Isogeny Degree = 3,  D1/D2 = Fractional ideal (1)\n",
      "j-invariants =  (-387223660*i - 19131120, 460*i + 720)\n",
      "  Isogeny Degree = 3,  D1/D2 = Fractional ideal (1)\n",
      "  Isogeny Degree = 3,  D1/D2 = Fractional ideal (1)\n",
      "j-invariants =  (1792, 406749952)\n",
      "  Isogeny Degree = 3,  D1/D2 = Fractional ideal (1)\n",
      "j-invariants =  (1136*i - 520, -29902540624*i + 7303907000)\n",
      "  Isogeny Degree = 5,  D1/D2 = Fractional ideal (1)\n",
      "  Isogeny Degree = 5,  D1/D2 = Fractional ideal (1)\n",
      "j-invariants =  (-23788477376, 64)\n",
      "  Isogeny Degree = 5,  D1/D2 = Fractional ideal (1)\n",
      "  Isogeny Degree = 5,  D1/D2 = Fractional ideal (1)\n",
      "j-invariants =  (-1136*i - 520, 29902540624*i + 7303907000)\n",
      "  Isogeny Degree = 5,  D1/D2 = Fractional ideal (1)\n",
      "  Isogeny Degree = 5,  D1/D2 = Fractional ideal (1)\n",
      "j-invariants =  (4096, 38477541376)\n",
      "  Isogeny Degree = 5,  D1/D2 = Fractional ideal (1)\n",
      "  Isogeny Degree = 5,  D1/D2 = Fractional ideal (1)\n",
      "j-invariants =  (-732160*i + 1009152, 732160*i + 1009152)\n",
      "  Isogeny Degree = 5,  D1/D2 = Fractional ideal (1)\n",
      "  Isogeny Degree = 5,  D1/D2 = Fractional ideal (1)\n",
      "j-invariants =  (-503360*i + 114984, 503360*i + 114984)\n",
      "  Isogeny Degree = 5,  D1/D2 = Fractional ideal (1)\n",
      "  Isogeny Degree = 5,  D1/D2 = Fractional ideal (1)\n",
      "j-invariants =  (587961739625*i - 376600566000, -1625*i - 6000)\n",
      "  Isogeny Degree = 7,  D1/D2 = Fractional ideal (1)\n",
      "  Isogeny Degree = 7,  D1/D2 = Fractional ideal (1)\n",
      "j-invariants =  (-371323264041, 999)\n",
      "  Isogeny Degree = 7,  D1/D2 = Fractional ideal (1)\n",
      "j-invariants =  (-587961739625*i - 376600566000, 1625*i - 6000)\n",
      "  Isogeny Degree = 7,  D1/D2 = Fractional ideal (1)\n",
      "  Isogeny Degree = 7,  D1/D2 = Fractional ideal (1)\n",
      "j-invariants =  (21609, 1168429123449)\n",
      "  Isogeny Degree = 7,  D1/D2 = Fractional ideal (1)\n",
      "j-invariants =  (26352*i + 128952, 142566162324912*i + 297218710280952)\n",
      "  Isogeny Degree = 13,  D1/D2 = Fractional ideal (1)\n",
      "  Isogeny Degree = 13,  D1/D2 = Fractional ideal (1)\n",
      "j-invariants =  (-39091613782464, 576)\n",
      "  Isogeny Degree = 13,  D1/D2 = Fractional ideal (1)\n",
      "  Isogeny Degree = 13,  D1/D2 = Fractional ideal (1)\n",
      "j-invariants =  (-26352*i + 128952, -142566162324912*i + 297218710280952)\n",
      "  Isogeny Degree = 13,  D1/D2 = Fractional ideal (1)\n",
      "  Isogeny Degree = 13,  D1/D2 = Fractional ideal (1)\n",
      "j-invariants =  (2101248, 2045023375454208)\n",
      "  Isogeny Degree = 13,  D1/D2 = Fractional ideal (1)\n",
      "  Isogeny Degree = 13,  D1/D2 = Fractional ideal (1)\n",
      "j-invariants =  (-1508569920*i - 357843672, 1508569920*i - 357843672)\n",
      "  Isogeny Degree = 13,  D1/D2 = Fractional ideal (1)\n",
      "  Isogeny Degree = 13,  D1/D2 = Fractional ideal (1)\n",
      "j-invariants =  (-4092042240*i + 410420736, 4092042240*i + 410420736)\n",
      "  Isogeny Degree = 13,  D1/D2 = Fractional ideal (1)\n",
      "  Isogeny Degree = 13,  D1/D2 = Fractional ideal (1)\n"
     ]
    }
   ],
   "source": [
    "load('utils.sage')\n",
    "P.<x> = QQ[]\n",
    "# This field contains i = sqrt(-1)\n",
    "K.<i> = NumberField(x^2 + 1)\n",
    "DITpairs = discriminant_ideal_twins(K)\n",
    "from collections import defaultdict\n",
    "DITjinvs = defaultdict(list)\n",
    "for E1, E2 in DITpairs:\n",
    "    j1 = E1.j_invariant()\n",
    "    j2 = E2.j_invariant()\n",
    "    jj = tuple(sorted([j1, j2]))\n",
    "    D1 = E1.minimal_discriminant_ideal()\n",
    "    D2 = E2.minimal_discriminant_ideal()\n",
    "    DITjinvs[jj].append([E1, E2])\n",
    "for jj in DITjinvs:\n",
    "    print('j-invariants = ', jj)\n",
    "    for E1, E2 in DITjinvs[jj]:\n",
    "        print('  Isogeny Degree = %s,  D1/D2 = %s'%(E1.isogeny_degree(E2), D1/D2))"
   ]
  },
  {
   "cell_type": "code",
   "execution_count": 0,
   "metadata": {
    "collapsed": false
   },
   "outputs": [
   ],
   "source": [
   ]
  },
  {
   "cell_type": "code",
   "execution_count": 0,
   "metadata": {
    "collapsed": false
   },
   "outputs": [
   ],
   "source": [
   ]
  },
  {
   "cell_type": "code",
   "execution_count": 0,
   "metadata": {
    "collapsed": false
   },
   "outputs": [
   ],
   "source": [
   ]
  },
  {
   "cell_type": "code",
   "execution_count": 69,
   "metadata": {
    "collapsed": false,
    "scrolled": true
   },
   "outputs": [
    {
     "data": {
      "text/plain": [
       "576"
      ]
     },
     "execution_count": 69,
     "metadata": {
     },
     "output_type": "execute_result"
    }
   ],
   "source": [
    "2^6*3^2"
   ]
  },
  {
   "cell_type": "code",
   "execution_count": 0,
   "metadata": {
    "collapsed": false
   },
   "outputs": [
   ],
   "source": [
   ]
  },
  {
   "cell_type": "code",
   "execution_count": 74,
   "metadata": {
    "collapsed": false
   },
   "outputs": [
    {
     "data": {
      "text/plain": [
       "[(-3, 3, -12288000),\n",
       " (-3, 2, 54000),\n",
       " (-3, 1, 0),\n",
       " (-4, 2, 287496),\n",
       " (-4, 1, 1728),\n",
       " (-7, 2, 16581375),\n",
       " (-7, 1, -3375),\n",
       " (-8, 1, 8000),\n",
       " (-11, 1, -32768),\n",
       " (-19, 1, -884736),\n",
       " (-43, 1, -884736000),\n",
       " (-67, 1, -147197952000),\n",
       " (-163, 1, -262537412640768000)]"
      ]
     },
     "execution_count": 74,
     "metadata": {
     },
     "output_type": "execute_result"
    }
   ],
   "source": [
    "cm_j_invariants_and_orders(QQ)"
   ]
  },
  {
   "cell_type": "code",
   "execution_count": 78,
   "metadata": {
    "collapsed": false
   },
   "outputs": [
   ],
   "source": [
    "nf_polys = [x^2 - x + 2, x^2 + 2, x^2 - x + 3, x^2 + 1, x^2 - x + 5, x^2 - x - 1, x^2 - x + 1, x^2 - x + 11, x^2 - x - 3, x^4 + 2*x^2 + 4, x^4 - 2*x^2 + 4, x^4 - x^2 + 1, x^4 - x^3 + 5*x^2 + 4*x + 16]\n",
    "NFs = [NumberField(f, 'a') for f in nf_polys]"
   ]
  },
  {
   "cell_type": "code",
   "execution_count": 32,
   "metadata": {
    "collapsed": false,
    "scrolled": true
   },
   "outputs": [
    {
     "name": "stdout",
     "output_type": "stream",
     "text": [
      "p =  2\n",
      "\n",
      "      t0 defines a singular curve\n",
      "       t + 64\n",
      "\n",
      "\n",
      "p =  3\n",
      "\n",
      "\n",
      "      t0 defines a singular curve\n",
      "       t + 27\n",
      "\n",
      "\n",
      "p =  5\n",
      "      t0 defines a singular curve\n",
      "       t^2 + 22*t + 125\n",
      "\n",
      "\n",
      "\n",
      "\n",
      "\n",
      "p =  7\n",
      "\n",
      "      t0 defines a singular curve\n",
      "       t^2 + 13*t + 49\n",
      "\n",
      "\n",
      "\n",
      "\n",
      "\n",
      "\n",
      "p =  13\n",
      "\n",
      "\n",
      "\n",
      "\n",
      "      t0 defines a singular curve\n",
      "       t^2 + 6*t + 13\n",
      "\n",
      "      t0 defines a singular curve\n",
      "       t^2 + 5*t + 13\n",
      "\n",
      "\n",
      "\n",
      "\n",
      "\n"
     ]
    }
   ],
   "source": [
    "load('explicit_isogeny_models.sage')\n",
    "t = var('t')\n",
    "nf_polys = [x^2 - x + 2, x^2 + 2, x^2 - x + 3, x^2 + 1, x^2 - x + 5, x^2 - x - 1, x^2 - x + 1, x^2 - x + 11, x^2 - x - 3, x^4 + 2*x^2 + 4, x^4 - 2*x^2 + 4, x^4 - x^2 + 1, x^4 - x^3 + 5*x^2 + 4*x + 16]\n",
    "NFs = [NumberField(f, 'a') for f in nf_polys]\n",
    "\n",
    "for p, j1, j2 in [(2, j2_1, j2_2), (3, j3_1, j3_2), (5, j5_1, j5_2), (7, j7_1, j7_2), (13, j13_1, j13_2)]:\n",
    "    print('p = ', p)\n",
    "    jj = (j1(t) - j2(t))*t^p\n",
    "    for f, e in jj.factor_list()[:-1]:\n",
    "        #print('  factor = ', f)\n",
    "        K.<t0> = NumberField(f)\n",
    "        #print('  NFDisc = ', K.discriminant().factor())\n",
    "        #print('  Class# = ', K.class_number())\n",
    "        for L in NFs:\n",
    "            if L.is_isomorphic(K):\n",
    "                #print('    f = ', L.polynomial())\n",
    "                #for h in K.Hom(L):\n",
    "                #    print('    t0 = ', h(t0), '    ', h(t0).norm().factor())\n",
    "                break\n",
    "        #print('      N(t0) = ', t0.norm().factor())\n",
    "        #print('          ', [t0.valuation(fp) for fp, ee in K.ideal(p).factor()])\n",
    "        #print('      j1 = ', j1(t0))\n",
    "        #print('      j2 = ', j2(t0))\n",
    "        try:\n",
    "            E1, E2 = isog_curves(p, t0, 1)\n",
    "            #for h in K.Hom(L):\n",
    "            #    print('          j(E1) = ', h(E1.j_invariant()))\n",
    "            #print('      CM = ', E1.cm_discriminant())\n",
    "        except:\n",
    "            print(\"      t0 defines a singular curve\")\n",
    "            print(\"      \", f)\n",
    "        print()"
   ]
  },
  {
   "cell_type": "code",
   "execution_count": 81,
   "metadata": {
    "collapsed": false,
    "scrolled": true
   },
   "outputs": [
    {
     "data": {
      "text/plain": [
       "True"
      ]
     },
     "execution_count": 81,
     "metadata": {
     },
     "output_type": "execute_result"
    }
   ],
   "source": [
    "L.is_isomorphic(K)"
   ]
  },
  {
   "cell_type": "code",
   "execution_count": 5,
   "metadata": {
    "collapsed": false
   },
   "outputs": [
    {
     "data": {
      "text/plain": [
       "x^{2} - x - 3"
      ]
     },
     "execution_count": 5,
     "metadata": {
     },
     "output_type": "execute_result"
    }
   ],
   "source": [
    "f = L.polynomial()\n",
    "latex(f)"
   ]
  },
  {
   "cell_type": "code",
   "execution_count": 88,
   "metadata": {
    "collapsed": false
   },
   "outputs": [
    {
     "name": "stdout",
     "output_type": "stream",
     "text": [
      "2*a - 1\n",
      "-2*a + 1\n"
     ]
    }
   ],
   "source": [
    "for h in K.Hom(L):\n",
    "    print(h(t0))"
   ]
  },
  {
   "cell_type": "code",
   "execution_count": 56,
   "metadata": {
    "collapsed": false
   },
   "outputs": [
    {
     "name": "stdout",
     "output_type": "stream",
     "text": [
      "$ 2 $ & $ -{\\left(t^{2} + 47 \\, t + 4096\\right)} {\\left(t + 64\\right)} {\\left(t - 64\\right)} $ \\\\\n",
      "$ 3 $ & $ -{\\left(t^{2} + 46 \\, t + 729\\right)} {\\left(t^{2} - 10 \\, t + 729\\right)} {\\left(t + 27\\right)} {\\left(t - 27\\right)} $ \\\\\n",
      "$ 5 $ & $ -{\\left(t^{2} + 22 \\, t + 125\\right)} {\\left(t^{2} + 18 \\, t + 125\\right)} {\\left(t^{2} + 4 \\, t + 125\\right)} {\\left(t^{2} - 14 \\, t + 125\\right)} {\\left(t^{2} - 125\\right)} $ \\\\\n",
      "$ 7 $ & $ -{\\left(t^{4} + 10 \\, t^{3} + 51 \\, t^{2} + 490 \\, t + 2401\\right)} {\\left(t^{2} + 13 \\, t + 49\\right)} {\\left(t^{2} + 11 \\, t + 49\\right)} {\\left(t^{2} + 5 \\, t + 49\\right)} {\\left(t^{2} - 11 \\, t + 49\\right)} {\\left(t + 7\\right)} {\\left(t - 7\\right)} $ \\\\\n",
      "$ 13 $ & $ -{\\left(t^{4} + 6 \\, t^{3} + 23 \\, t^{2} + 78 \\, t + 169\\right)} {\\left(t^{4} - t^{3} - 12 \\, t^{2} - 13 \\, t + 169\\right)} {\\left(t^{4} - t^{2} + 169\\right)} {\\left(t^{2} + 7 \\, t + 13\\right)} {\\left(t^{2} + 6 \\, t + 13\\right)} {\\left(t^{2} + 5 \\, t + 13\\right)} {\\left(t^{2} + 4 \\, t + 13\\right)} {\\left(t^{2} + 2 \\, t + 13\\right)} {\\left(t^{2} - 3 \\, t + 13\\right)} {\\left(t^{2} - 13\\right)} $ \\\\\n"
     ]
    }
   ],
   "source": [
    "for p, j1, j2 in [(2, j2_1, j2_2), (3, j3_1, j3_2), (5, j5_1, j5_2), (7, j7_1, j7_2), (13, j13_1, j13_2)]:\n",
    "    jj = (j1(t) - j2(t))*t^p\n",
    "    print('$', p, '$ & $', latex(jj.factor()), '$ \\\\\\\\')"
   ]
  },
  {
   "cell_type": "code",
   "execution_count": 65,
   "metadata": {
    "collapsed": false
   },
   "outputs": [
    {
     "name": "stdout",
     "output_type": "stream",
     "text": [
      "2 4 -(t^2 + 47*t + 4096)*(t + 64)*(t - 64)\n",
      "3 6 -(t^2 + 46*t + 729)*(t^2 - 10*t + 729)*(t + 27)*(t - 27)\n",
      "5 10 -(t^2 + 22*t + 125)*(t^2 + 18*t + 125)*(t^2 + 4*t + 125)*(t^2 - 14*t + 125)*(t^2 - 125)\n",
      "7 14 -(t^4 + 10*t^3 + 51*t^2 + 490*t + 2401)*(t^2 + 13*t + 49)*(t^2 + 11*t + 49)*(t^2 + 5*t + 49)*(t^2 - 11*t + 49)*(t + 7)*(t - 7)\n",
      "13 26 -(t^4 + 6*t^3 + 23*t^2 + 78*t + 169)*(t^4 - t^3 - 12*t^2 - 13*t + 169)*(t^4 - t^2 + 169)*(t^2 + 7*t + 13)*(t^2 + 6*t + 13)*(t^2 + 5*t + 13)*(t^2 + 4*t + 13)*(t^2 + 2*t + 13)*(t^2 - 3*t + 13)*(t^2 - 13)\n"
     ]
    }
   ],
   "source": [
    "for p, j1, j2 in [(2, j2_1, j2_2), (3, j3_1, j3_2), (5, j5_1, j5_2), (7, j7_1, j7_2), (13, j13_1, j13_2)]:\n",
    "    jj = (j1(t) - j2(t))*t^p\n",
    "    print(p, jj.degree(t), jj.factor())"
   ]
  },
  {
   "cell_type": "code",
   "execution_count": 62,
   "metadata": {
    "collapsed": false
   },
   "outputs": [
    {
     "name": "stdout",
     "output_type": "stream",
     "text": [
      "Singular Values\n",
      "    $ 2 $  & $ t + 64 $ \\\\\n",
      "\n",
      "    $ 3 $  & $ t + 27 $ \\\\\n",
      "\n",
      "    $ 5 $  & $ t^{2} + 22 \\, t + 125 $ \\\\\n",
      "\n",
      "    $ 7 $  & $ t^{2} + 13 \\, t + 49 $ \\\\\n",
      "\n",
      "    $ 13 $  & $ t^{2} + 6 \\, t + 13 $ \\\\\n",
      "    $ 13 $  & $ t^{2} + 5 \\, t + 13 $ \\\\\n",
      "\n"
     ]
    }
   ],
   "source": [
    "load('explicit_isogeny_models.sage')\n",
    "t = var('t')\n",
    "nf_polys = [x, x^2 - x + 2, x^2 + 2, x^2 - x + 3, x^2 + 1, x^2 - x + 5, x^2 - x - 1, x^2 - x + 1, x^2 - x + 11, x^2 - x - 3, x^4 + 2*x^2 + 4, x^4 - 2*x^2 + 4, x^4 - x^2 + 1, x^4 - x^3 + 5*x^2 + 4*x + 16]\n",
    "NFs = [NumberField(f, 'a') for f in nf_polys]\n",
    "print('Singular Values')\n",
    "for p, j1, j2 in [(2, j2_1, j2_2), (3, j3_1, j3_2), (5, j5_1, j5_2), (7, j7_1, j7_2), (13, j13_1, j13_2)]:\n",
    "    jj = (j1(t) - j2(t))*t^p\n",
    "    for f, e in jj.factor_list()[:-1]:\n",
    "        K.<t0> = NumberField(f)\n",
    "        try:\n",
    "            E1, E2 = isog_curves(p, t0, 1)\n",
    "        except:\n",
    "            #pass\n",
    "            print('    $', p, '$  & $', latex(f), '$ \\\\\\\\' )\n",
    "    print()"
   ]
  },
  {
   "cell_type": "code",
   "execution_count": 50,
   "metadata": {
    "collapsed": false
   },
   "outputs": [
    {
     "name": "stdout",
     "output_type": "stream",
     "text": [
      "Singular Values\n",
      "    $ 2 $ & $ x $ & $ -64 $ \\\\\n",
      "\n",
      "    $ 3 $ & $ x $ & $ -27 $ \\\\\n",
      "\n",
      "    $ 5 $ & $ x^{2} + 1 $ & $ 2 a - 11 $ \\\\\n",
      "    $ 5 $ & $ x^{2} + 1 $ & $ -2 a - 11 $ \\\\\n",
      "\n",
      "    $ 7 $ & $ x^{2} - x + 1 $ & $ 3 a - 8 $ \\\\\n",
      "    $ 7 $ & $ x^{2} - x + 1 $ & $ -3 a - 5 $ \\\\\n",
      "\n",
      "    $ 13 $ & $ x^{2} + 1 $ & $ 2 a - 3 $ \\\\\n",
      "    $ 13 $ & $ x^{2} + 1 $ & $ -2 a - 3 $ \\\\\n",
      "    $ 13 $ & $ x^{2} - x + 1 $ & $ 3 a - 4 $ \\\\\n",
      "    $ 13 $ & $ x^{2} - x + 1 $ & $ -3 a - 1 $ \\\\\n",
      "\n"
     ]
    }
   ],
   "source": [
    "load('explicit_isogeny_models.sage')\n",
    "t = var('t')\n",
    "nf_polys = [x, x^2 - x + 2, x^2 + 2, x^2 - x + 3, x^2 + 1, x^2 - x + 5, x^2 - x - 1, x^2 - x + 1, x^2 - x + 11, x^2 - x - 3, x^4 + 2*x^2 + 4, x^4 - 2*x^2 + 4, x^4 - x^2 + 1, x^4 - x^3 + 5*x^2 + 4*x + 16]\n",
    "NFs = [NumberField(f, 'a') for f in nf_polys]\n",
    "print('Singular Values')\n",
    "for p, j1, j2 in [(2, j2_1, j2_2), (3, j3_1, j3_2), (5, j5_1, j5_2), (7, j7_1, j7_2), (13, j13_1, j13_2)]:\n",
    "    jj = (j1(t) - j2(t))*t^p\n",
    "    for f, e in jj.factor_list()[:-1]:\n",
    "        K.<t0> = NumberField(f)\n",
    "        #print(p, f, K.discriminant())\n",
    "        for L in NFs:\n",
    "            if L.is_isomorphic(K):\n",
    "                #print('  found L', L)\n",
    "                for h in K.Hom(L):\n",
    "                    #print('  h', h, h(t0))\n",
    "                    try:\n",
    "                        E1, E2 = isog_curves(p, h(t0), 1)\n",
    "                    except:\n",
    "                        #pass\n",
    "                        print('    $', p, '$  & $', latex(h(t0)), '$ \\\\\\\\' )\n",
    "    print()"
   ]
  },
  {
   "cell_type": "code",
   "execution_count": 51,
   "metadata": {
    "collapsed": false
   },
   "outputs": [
    {
     "name": "stdout",
     "output_type": "stream",
     "text": [
      "Isomorphic Curves\n",
      "    $ 2 $ & $ x^{2} - x + 2 $ & $ 45 a - 46 $ & $ -3375 $ \\\\\n"
     ]
    },
    {
     "name": "stdout",
     "output_type": "stream",
     "text": [
      "    $ 2 $ & $ x^{2} - x + 2 $ & $ -45 a - 1 $ & $ -3375 $ \\\\\n",
      "\n",
      "    $ 3 $ & $ x^{2} + 2 $ & $ 10 a - 23 $ & $ 8000 $ \\\\\n"
     ]
    },
    {
     "name": "stdout",
     "output_type": "stream",
     "text": [
      "    $ 3 $ & $ x^{2} + 2 $ & $ -10 a - 23 $ & $ 8000 $ \\\\\n",
      "    $ 3 $ & $ x^{2} - x + 3 $ & $ 16 a - 3 $ & $ -32768 $ \\\\\n"
     ]
    },
    {
     "name": "stdout",
     "output_type": "stream",
     "text": [
      "    $ 3 $ & $ x^{2} - x + 3 $ & $ -16 a + 13 $ & $ -32768 $ \\\\\n",
      "\n"
     ]
    },
    {
     "name": "stdout",
     "output_type": "stream",
     "text": [
      "    $ 5 $ & $ x^{2} - x + 3 $ & $ 4 a - 11 $ & $ -32768 $ \\\\\n",
      "    $ 5 $ & $ x^{2} - x + 3 $ & $ -4 a - 7 $ & $ -32768 $ \\\\\n"
     ]
    },
    {
     "name": "stdout",
     "output_type": "stream",
     "text": [
      "    $ 5 $ & $ x^{2} + 1 $ & $ 11 a - 2 $ & $ 287496 $ \\\\\n",
      "    $ 5 $ & $ x^{2} + 1 $ & $ -11 a - 2 $ & $ 287496 $ \\\\\n",
      "    $ 5 $ & $ x^{2} - x + 5 $ & $ 4 a + 5 $ & $ -884736 $ \\\\\n"
     ]
    },
    {
     "name": "stdout",
     "output_type": "stream",
     "text": [
      "    $ 5 $ & $ x^{2} - x + 5 $ & $ -4 a + 9 $ & $ -884736 $ \\\\\n",
      "\n",
      "    $ 7 $ & $ x^{4} + 2 x^{2} + 4 $ & $ 2 a^{3} - \\frac{5}{2} a^{2} + 2 a - 5 $ & $ 853632 a^{3} + 2417472 $ \\\\\n",
      "    $ 7 $ & $ x^{4} + 2 x^{2} + 4 $ & $ a^{3} + \\frac{5}{2} a^{2} - 2 a $ & $ 853632 a^{3} + 2417472 $ \\\\\n",
      "    $ 7 $ & $ x^{4} + 2 x^{2} + 4 $ & $ -a^{3} + \\frac{5}{2} a^{2} + 2 a $ & $ -853632 a^{3} + 2417472 $ \\\\\n"
     ]
    },
    {
     "name": "stdout",
     "output_type": "stream",
     "text": [
      "    $ 7 $ & $ x^{4} + 2 x^{2} + 4 $ & $ -2 a^{3} - \\frac{5}{2} a^{2} - 2 a - 5 $ & $ -853632 a^{3} + 2417472 $ \\\\\n",
      "    $ 7 $ & $ x^{2} - x + 1 $ & $ 5 a - 8 $ & $ 54000 $ \\\\\n",
      "    $ 7 $ & $ x^{2} - x + 1 $ & $ -5 a - 3 $ & $ 54000 $ \\\\\n",
      "    $ 7 $ & $ x^{2} - x + 5 $ & $ 3 a - 4 $ & $ -884736 $ \\\\\n"
     ]
    },
    {
     "name": "stdout",
     "output_type": "stream",
     "text": [
      "    $ 7 $ & $ x^{2} - x + 5 $ & $ -3 a - 1 $ & $ -884736 $ \\\\\n",
      "    $ 7 $ & $ x^{2} - x + 1 $ & $ 5 a + 3 $ & $ -12288000 $ \\\\\n",
      "    $ 7 $ & $ x^{2} - x + 1 $ & $ -5 a + 8 $ & $ -12288000 $ \\\\\n"
     ]
    },
    {
     "name": "stdout",
     "output_type": "stream",
     "text": [
      "\n"
     ]
    },
    {
     "name": "stdout",
     "output_type": "stream",
     "text": [
      "    $ 13 $ & $ x^{4} - x^{2} + 1 $ & $ 3 a^{2} + 2 a - 3 $ & $ -44330496 a^{3} + 88660992 a + 76771008 $ \\\\\n",
      "    $ 13 $ & $ x^{4} - x^{2} + 1 $ & $ 3 a^{2} - 2 a - 3 $ & $ 44330496 a^{3} - 88660992 a + 76771008 $ \\\\\n",
      "    $ 13 $ & $ x^{4} - x^{2} + 1 $ & $ 2 a^{3} - 3 a^{2} - 2 a $ & $ 44330496 a^{3} - 88660992 a + 76771008 $ \\\\\n",
      "    $ 13 $ & $ x^{4} - x^{2} + 1 $ & $ -2 a^{3} - 3 a^{2} + 2 a $ & $ -44330496 a^{3} + 88660992 a + 76771008 $ \\\\\n"
     ]
    },
    {
     "name": "stdout",
     "output_type": "stream",
     "text": [
      "    $ 13 $ & $ x^{4} - x^{3} + 5 x^{2} + 4 x + 16 $ & $ \\frac{2}{5} a^{3} + a + \\frac{13}{5} $ & $ -\\frac{1343913984}{5} a^{3} - \\frac{22588194816}{5} $ \\\\\n",
      "    $ 13 $ & $ x^{4} - x^{3} + 5 x^{2} + 4 x + 16 $ & $ \\frac{1}{5} a^{3} - a + \\frac{9}{5} $ & $ -\\frac{1343913984}{5} a^{3} - \\frac{22588194816}{5} $ \\\\\n",
      "    $ 13 $ & $ x^{4} - x^{3} + 5 x^{2} + 4 x + 16 $ & $ -\\frac{3}{20} a^{3} - \\frac{1}{4} a^{2} + \\frac{5}{4} a - \\frac{8}{5} $ & $ \\frac{1343913984}{5} a^{3} - \\frac{5117313024}{5} $ \\\\\n"
     ]
    },
    {
     "name": "stdout",
     "output_type": "stream",
     "text": [
      "    $ 13 $ & $ x^{4} - x^{3} + 5 x^{2} + 4 x + 16 $ & $ -\\frac{9}{20} a^{3} + \\frac{1}{4} a^{2} - \\frac{5}{4} a - \\frac{9}{5} $ & $ \\frac{1343913984}{5} a^{3} - \\frac{5117313024}{5} $ \\\\\n",
      "    $ 13 $ & $ x^{4} - x^{2} + 1 $ & $ 4 a^{3} - 3 a $ & $ 818626500 a^{3} - 1637253000 a + 1417905000 $ \\\\\n",
      "    $ 13 $ & $ x^{4} - x^{2} + 1 $ & $ a^{3} + 3 a $ & $ -818626500 a^{3} + 1637253000 a + 1417905000 $ \\\\\n",
      "    $ 13 $ & $ x^{4} - x^{2} + 1 $ & $ -a^{3} - 3 a $ & $ 818626500 a^{3} - 1637253000 a + 1417905000 $ \\\\\n"
     ]
    },
    {
     "name": "stdout",
     "output_type": "stream",
     "text": [
      "    $ 13 $ & $ x^{4} - x^{2} + 1 $ & $ -4 a^{3} + 3 a $ & $ -818626500 a^{3} + 1637253000 a + 1417905000 $ \\\\\n",
      "    $ 13 $ & $ x^{2} - x + 1 $ & $ a - 4 $ & $ 54000 $ \\\\\n",
      "    $ 13 $ & $ x^{2} - x + 1 $ & $ -a - 3 $ & $ 54000 $ \\\\\n",
      "    $ 13 $ & $ x^{2} + 1 $ & $ 3 a - 2 $ & $ 287496 $ \\\\\n"
     ]
    },
    {
     "name": "stdout",
     "output_type": "stream",
     "text": [
      "    $ 13 $ & $ x^{2} + 1 $ & $ -3 a - 2 $ & $ 287496 $ \\\\\n",
      "    $ 13 $ & $ x^{2} - x + 1 $ & $ 4 a - 3 $ & $ -12288000 $ \\\\\n",
      "    $ 13 $ & $ x^{2} - x + 1 $ & $ -4 a + 1 $ & $ -12288000 $ \\\\\n",
      "    $ 13 $ & $ x^{2} - x + 11 $ & $ a + 1 $ & $ -884736000 $ \\\\\n"
     ]
    },
    {
     "name": "stdout",
     "output_type": "stream",
     "text": [
      "    $ 13 $ & $ x^{2} - x + 11 $ & $ -a + 2 $ & $ -884736000 $ \\\\\n",
      "\n"
     ]
    }
   ],
   "source": [
    "load('explicit_isogeny_models.sage')\n",
    "t = var('t')\n",
    "nf_polys = [x, x^2 - x + 2, x^2 + 2, x^2 - x + 3, x^2 + 1, x^2 - x + 5, x^2 - x - 1, x^2 - x + 1, x^2 - x + 11, x^2 - x - 3, x^4 + 2*x^2 + 4, x^4 - 2*x^2 + 4, x^4 - x^2 + 1, x^4 - x^3 + 5*x^2 + 4*x + 16]\n",
    "NFs = [NumberField(f, 'a') for f in nf_polys]\n",
    "print('Isomorphic Curves')\n",
    "for p, j1, j2 in [(2, j2_1, j2_2), (3, j3_1, j3_2), (5, j5_1, j5_2), (7, j7_1, j7_2), (13, j13_1, j13_2)]:\n",
    "    jj = (j1(t) - j2(t))*t^p\n",
    "    for f, e in jj.factor_list()[:-1]:\n",
    "        K.<t0> = NumberField(f)\n",
    "        #print(p, f, K.discriminant())\n",
    "        for L in NFs:\n",
    "            if L.is_isomorphic(K):\n",
    "                #print('  found L', L)\n",
    "                for h in K.Hom(L):\n",
    "                    #print('  h', h, h(t0))\n",
    "                    try:\n",
    "                        E1, E2 = isog_curves(p, h(t0), 1)\n",
    "                        if E1.isogeny_degree(E2) == 1:\n",
    "                            #print('    good', L.polynomial(), h(t0))\n",
    "                            print('    $', p, '$ & $', latex(L.polynomial()),'$ & $', latex(h(t0)), '$ & $', latex(E1.j_invariant()), '$ \\\\\\\\' )\n",
    "                            #print('    ', E1.isogeny_degree(E2), E1.minimal_discriminant_ideal() == E2.minimal_discriminant_ideal())\n",
    "                    except:\n",
    "                        pass\n",
    "                        #print('    $', p, '$ & $', latex(L.polynomial()),'$ & $', latex(h(t0)), '$ & singular & - \\\\\\\\' )\n",
    "    print()"
   ]
  },
  {
   "cell_type": "code",
   "execution_count": 52,
   "metadata": {
    "collapsed": false
   },
   "outputs": [
    {
     "name": "stdout",
     "output_type": "stream",
     "text": [
      "\n"
     ]
    },
    {
     "name": "stdout",
     "output_type": "stream",
     "text": [
      "\n"
     ]
    },
    {
     "name": "stdout",
     "output_type": "stream",
     "text": [
      "     5 True\n",
      "    $ 5 $ & $ x^{2} - x - 1 $ & $ 10 a - 5 $ & $ 565760 a + 349120 $ & $ -20 $ \\\\\n",
      "     5 True\n",
      "    $ 5 $ & $ x^{2} - x - 1 $ & $ -10 a + 5 $ & $ -565760 a + 914880 $ & $ -20 $ \\\\\n",
      "\n"
     ]
    },
    {
     "name": "stdout",
     "output_type": "stream",
     "text": [
      "\n"
     ]
    },
    {
     "name": "stdout",
     "output_type": "stream",
     "text": [
      "     13 True\n",
      "    $ 13 $ & $ x^{2} - x - 3 $ & $ 2 a - 1 $ & $ 1912896000 a + 2491992000 $ & $ -52 $ \\\\\n",
      "     13 True\n",
      "    $ 13 $ & $ x^{2} - x - 3 $ & $ -2 a + 1 $ & $ -1912896000 a + 4404888000 $ & $ -52 $ \\\\\n",
      "\n"
     ]
    }
   ],
   "source": [
    "load('explicit_isogeny_models.sage')\n",
    "t = var('t')\n",
    "nf_polys = [x, x^2 - x + 2, x^2 + 2, x^2 - x + 3, x^2 + 1, x^2 - x + 5, x^2 - x - 1, x^2 - x + 1, x^2 - x + 11, x^2 - x - 3, x^4 + 2*x^2 + 4, x^4 - 2*x^2 + 4, x^4 - x^2 + 1, x^4 - x^3 + 5*x^2 + 4*x + 16]\n",
    "NFs = [NumberField(f, 'a') for f in nf_polys]\n",
    "\n",
    "for p, j1, j2 in [(2, j2_1, j2_2), (3, j3_1, j3_2), (5, j5_1, j5_2), (7, j7_1, j7_2), (13, j13_1, j13_2)]:\n",
    "    jj = (j1(t) - j2(t))*t^p\n",
    "    for f, e in jj.factor_list()[:-1]:\n",
    "        K.<t0> = NumberField(f)\n",
    "        #print(p, f, K.discriminant())\n",
    "        for L in NFs:\n",
    "            if L.is_isomorphic(K):\n",
    "                #print('  found L', L)\n",
    "                for h in K.Hom(L):\n",
    "                    #print('  h', h, h(t0))\n",
    "                    try:\n",
    "                        E1, E2 = isog_curves(p, h(t0), 1)\n",
    "                        if E1.isogeny_degree(E2) != 1:\n",
    "                            print('    ', E1.isogeny_degree(E2), E1.minimal_discriminant_ideal() == E2.minimal_discriminant_ideal())\n",
    "                            print('    $', p, '$ & $', latex(L.polynomial()),'$ & $', latex(h(t0)), '$ & $', latex(E1.j_invariant()), '$ & $', E1.cm_discriminant(), '$ \\\\\\\\' )\n",
    "                    except:\n",
    "                        pass\n",
    "                        #print('    $', p, '$ & $', latex(L.polynomial()),'$ & $', latex(h(t0)), '$ & singular & - \\\\\\\\' )\n",
    "    print()"
   ]
  },
  {
   "cell_type": "code",
   "execution_count": 157,
   "metadata": {
    "collapsed": false,
    "scrolled": true
   },
   "outputs": [
    {
     "name": "stdout",
     "output_type": "stream",
     "text": [
      "    $ 2 $ & $ 8000 $ & $ t - 64 $ & $ (Fractional ideal (2))^-6  \\\\\n",
      "     -8\n",
      "     III III*\n",
      "     -1/2\n",
      "     (Fractional ideal (2))^9\n",
      "\n"
     ]
    },
    {
     "name": "stdout",
     "output_type": "stream",
     "text": [
      "    $ 3 $ & $ 54000 $ & $ t - 27 $ & $ (Fractional ideal (3))^-6  \\\\\n",
      "     -12\n",
      "     III III*\n",
      "     -1/3\n",
      "     (Fractional ideal (2))^8 * (Fractional ideal (3))^3\n",
      "\n",
      "\n"
     ]
    },
    {
     "name": "stdout",
     "output_type": "stream",
     "text": [
      "    $ 7 $ & $ -3375 $ & $ t + 7 $ & $ (Fractional ideal (7))^6  \\\\\n",
      "     -7\n",
      "     III* III\n",
      "     -1/7\n",
      "     (Fractional ideal (7))^9\n",
      "    $ 7 $ & $ 16581375 $ & $ t - 7 $ & $ (Fractional ideal (7))^6  \\\\\n",
      "     -28\n",
      "     III* III\n",
      "     -1/7\n",
      "     (Fractional ideal (2))^12 * (Fractional ideal (3))^6 * (Fractional ideal (7))^9\n",
      "\n"
     ]
    },
    {
     "name": "stdout",
     "output_type": "stream",
     "text": [
      "\n"
     ]
    }
   ],
   "source": [
    "load('explicit_isogeny_models.sage')\n",
    "load('utils.sage')\n",
    "P.<t> = QQ[]\n",
    "\n",
    "for p, j1, j2 in [(2, j2_1, j2_2), (3, j3_1, j3_2), (5, j5_1, j5_2), (7, j7_1, j7_2), (13, j13_1, j13_2)]:\n",
    "    jj = (j1(t) - j2(t))*t^p\n",
    "    for f, e in jj.factor_list()[:-1]:\n",
    "        K.<t0> = NumberField(f)\n",
    "        #print(p, f)\n",
    "        if is_singular_value(p, t0):\n",
    "            continue\n",
    "            #print()\n",
    "            #print('    $', p, '$ & $', '', '$ & singular & $',latex(f), '$ \\\\\\\\' )\n",
    "        else:\n",
    "            E1, E2 = isog_curves(p, t0, 1)\n",
    "            #print('here ', p, f, E1.is_isomorphic(E2))\n",
    "            if E1.is_isomorphic(E2) == 1:\n",
    "                continue\n",
    "                #print('  in if')\n",
    "                #print('    $', p, '$ & $', latex(E1.j_invariant()), '$ & $',latex(f), '$ \\\\\\\\' )\n",
    "            else:\n",
    "                #continue\n",
    "                #print('  in else')#, E1.isogeny_degree(E2))\n",
    "                if E1.minimal_discriminant_ideal() != E2.minimal_discriminant_ideal():\n",
    "                    D1 = E1.minimal_discriminant_ideal()\n",
    "                    D2 = E2.minimal_discriminant_ideal()\n",
    "                    print('    $', p, '$ & $', latex(E1.j_invariant()), '$ & $',latex(f), '$ & $', (D1/D2).factor(),' \\\\\\\\' )\n",
    "                    print('    ', E1.cm_discriminant())\n",
    "                    print('    ', E1.kodaira_symbol(K.ideal(p)), E2.kodaira_symbol(K.ideal(p)))\n",
    "                    print('    ', E1.is_quadratic_twist(E2))\n",
    "                    print('    ', E1.minimal_discriminant_ideal().factor())\n",
    "    print()"
   ]
  },
  {
   "cell_type": "code",
   "execution_count": 158,
   "metadata": {
    "collapsed": false,
    "scrolled": true
   },
   "outputs": [
    {
     "name": "stdout",
     "output_type": "stream",
     "text": [
      "2 64 8000\n",
      "   5 8 9\n",
      "   7 11 15\n",
      "3 27 54000\n",
      "   2 3 3\n",
      "   4 6 9\n",
      "7 -7 -3375\n",
      "   3 5 9\n",
      "   1 2 3\n",
      "7 7 16581375\n",
      "   3 5 9\n",
      "   1 2 3\n"
     ]
    }
   ],
   "source": [
    "Trips = [(2, 64, 8000), (3, 27, 54000), (7, -7, -3375), (7, 7, 16581375)]\n",
    "for p, t0, j in Trips:\n",
    "    E1, E2 = isog_curves(p, t0, 1)\n",
    "    assert E1.j_invariant() == E2.j_invariant()\n",
    "    assert E1.j_invariant() == j\n",
    "    print(p, t0, j)\n",
    "    E1 = E1.global_minimal_model()\n",
    "    E2 = E2.global_minimal_model()\n",
    "    print('  ', E1.c4().valuation(p), E1.c6().valuation(p), E1.discriminant().valuation(p))\n",
    "    print('  ', E2.c4().valuation(p), E2.c6().valuation(p), E2.discriminant().valuation(p))"
   ]
  },
  {
   "cell_type": "code",
   "execution_count": 156,
   "metadata": {
    "collapsed": false
   },
   "outputs": [
    {
     "name": "stdout",
     "output_type": "stream",
     "text": [
      "2 64 8000\n",
      "2^18\n",
      "(Fractional ideal (a))^18\n",
      "(Fractional ideal (a))^18\n",
      "3 27 54000\n",
      "2^4 * 3^6\n",
      "(Fractional ideal (-a + 1))^4 * (Fractional ideal (-a))^6\n",
      "(Fractional ideal (-a + 1))^4 * (Fractional ideal (-a))^6\n",
      "7 -7 -3375\n",
      "7^6\n",
      "(Fractional ideal (a))^6\n",
      "(Fractional ideal (a))^6\n",
      "7 7 16581375\n",
      "3^12 * 7^6\n",
      "(Fractional ideal (a - 2))^6 * (Fractional ideal (a + 2))^6 * (Fractional ideal (a))^6\n",
      "(Fractional ideal (a - 2))^6 * (Fractional ideal (a + 2))^6 * (Fractional ideal (a))^6\n"
     ]
    }
   ],
   "source": [
    "Trips = [(2, 64, 8000), (3, 27, 54000), (7, -7, -3375), (7, 7, 16581375)]\n",
    "for p, t0, j in Trips:\n",
    "    K.<a> = QuadraticField(p)\n",
    "    E1, E2 = isog_curves(p, K(t0), 1)\n",
    "    print(p, t0, j)\n",
    "    print(E1.minimal_discriminant_ideal().norm().factor())\n",
    "    print(E1.minimal_discriminant_ideal().factor())\n",
    "    print(E2.minimal_discriminant_ideal().factor())"
   ]
  },
  {
   "cell_type": "code",
   "execution_count": 0,
   "metadata": {
    "collapsed": false
   },
   "outputs": [
   ],
   "source": [
   ]
  },
  {
   "cell_type": "code",
   "execution_count": 0,
   "metadata": {
    "collapsed": false
   },
   "outputs": [
   ],
   "source": [
   ]
  },
  {
   "cell_type": "code",
   "execution_count": 150,
   "metadata": {
    "collapsed": false
   },
   "outputs": [
   ],
   "source": [
   ]
  },
  {
   "cell_type": "code",
   "execution_count": 0,
   "metadata": {
    "collapsed": false
   },
   "outputs": [
   ],
   "source": [
   ]
  },
  {
   "cell_type": "code",
   "execution_count": 0,
   "metadata": {
    "collapsed": false
   },
   "outputs": [
   ],
   "source": [
   ]
  },
  {
   "cell_type": "code",
   "execution_count": 0,
   "metadata": {
    "collapsed": false
   },
   "outputs": [
   ],
   "source": [
   ]
  },
  {
   "cell_type": "code",
   "execution_count": 0,
   "metadata": {
    "collapsed": false
   },
   "outputs": [
   ],
   "source": [
   ]
  },
  {
   "cell_type": "markdown",
   "metadata": {
    "collapsed": false
   },
   "source": [
   ]
  },
  {
   "cell_type": "code",
   "execution_count": 1,
   "metadata": {
    "collapsed": false
   },
   "outputs": [
    {
     "data": {
      "text/plain": [
       "4"
      ]
     },
     "execution_count": 1,
     "metadata": {
     },
     "output_type": "execute_result"
    }
   ],
   "source": [
    "2 + 2"
   ]
  },
  {
   "cell_type": "code",
   "execution_count": 3,
   "metadata": {
    "collapsed": false
   },
   "outputs": [
    {
     "name": "stdout",
     "output_type": "stream",
     "text": [
      "(0, 0, 0, -27*(t + 256)*(t + 64), -54*(t + 64)^2*(t - 512))\n",
      "(0, 0, 0, -432*(t + 64)*(t + 16), -3456*(t + 64)^2*(t - 8))\n",
      "(0, 0, 0, -3*(t + 243)*(t + 27)^3, -2*(t^2 - 486*t - 19683)*(t + 27)^4)\n",
      "(0, 0, 0, -243*(t + 27)^3*(t + 3), -1458*(t^2 + 18*t - 27)*(t + 27)^4)\n",
      "(0, 0, 0, -27*(t^2 + 250*t + 3125)*(t^2 + 22*t + 125), -54*(t^2 + 22*t + 125)^2*(t^2 - 500*t - 15625))\n",
      "(0, 0, 0, -16875*(t^2 + 22*t + 125)*(t^2 + 10*t + 5), -843750*(t^2 + 22*t + 125)^2*(t^2 + 4*t - 1))\n",
      "(0, 0, 0, -27*(t^2 + 245*t + 2401)*(t^2 + 13*t + 49), -54*(t^4 - 490*t^3 - 21609*t^2 - 235298*t - 823543)*(t^2 + 13*t + 49))\n",
      "(0, 0, 0, -64827*(t^2 + 13*t + 49)*(t^2 + 5*t + 1), -6353046*(t^4 + 14*t^3 + 63*t^2 + 70*t - 7)*(t^2 + 13*t + 49))\n",
      "(0, 0, 0, -27*(t^4 + 247*t^3 + 3380*t^2 + 15379*t + 28561)*(t^2 + 6*t + 13)*(t^2 + 5*t + 13), -54*(t^6 - 494*t^5 - 20618*t^4 - 237276*t^3 - 1313806*t^2 - 3712930*t - 4826809)*(t^2 + 6*t + 13)^2*(t^2 + 5*t + 13))\n",
      "(0, 0, 0, -771147*(t^4 + 7*t^3 + 20*t^2 + 19*t + 1)*(t^2 + 6*t + 13)*(t^2 + 5*t + 13), -260647686*(t^6 + 10*t^5 + 46*t^4 + 108*t^3 + 122*t^2 + 38*t - 1)*(t^2 + 6*t + 13)^2*(t^2 + 5*t + 13))\n"
     ]
    }
   ],
   "source": [
    "load('explicit_isogeny_models.sage')\n",
    "t = var('t')\n",
    "for p in [2, 3, 5, 7, 13]:\n",
    "    E1, E2  = isog_curves(p, t, 1)\n",
    "    print(E1.a_invariants())\n",
    "    print(E2.a_invariants())"
   ]
  },
  {
   "cell_type": "code",
   "execution_count": 5,
   "metadata": {
    "collapsed": false
   },
   "outputs": [
    {
     "name": "stdout",
     "output_type": "stream",
     "text": [
      "(t + 256)^3/t^2\n",
      "(t + 16)^3/t\n",
      "(t + 243)^3*(t + 27)/t^3\n",
      "(t + 27)*(t + 3)^3/t\n",
      "(t^2 + 250*t + 3125)^3/t^5\n",
      "(t^2 + 10*t + 5)^3/t\n",
      "(t^2 + 245*t + 2401)^3*(t^2 + 13*t + 49)/t^7\n",
      "(t^2 + 13*t + 49)*(t^2 + 5*t + 1)^3/t\n",
      "(t^4 + 247*t^3 + 3380*t^2 + 15379*t + 28561)^3*(t^2 + 5*t + 13)/t^13\n",
      "(t^4 + 7*t^3 + 20*t^2 + 19*t + 1)^3*(t^2 + 5*t + 13)/t\n"
     ]
    }
   ],
   "source": [
    "load('explicit_isogeny_models.sage')\n",
    "t = var('t')\n",
    "for p in [2, 3, 5, 7, 13]:\n",
    "    E1, E2  = isog_curves(p, t, 1)\n",
    "    print(E1.j_invariant().factor())\n",
    "    print(E2.j_invariant().factor())"
   ]
  },
  {
   "cell_type": "code",
   "execution_count": 0,
   "metadata": {
    "collapsed": false
   },
   "outputs": [
   ],
   "source": [
    "load('utils.sage')\n",
    "P.<x> = QQ[]\n",
    "K.<a> = NumberField(x^2 + 1)\n",
    "DiscIdealTwins = discriminant_ideal_twins(K)\n",
    "for E1, E2 in DiscIdealTwins:\n",
    "    print(E1.isogeny_degree(E2))\n",
    "    print('    ', E1.j_invariant())\n",
    "    print('    ', E2.j_invariant())"
   ]
  },
  {
   "cell_type": "code",
   "execution_count": 0,
   "metadata": {
    "collapsed": false
   },
   "outputs": [
   ],
   "source": [
   ]
  }
 ],
 "metadata": {
  "kernelspec": {
   "argv": [
    "sage-10.1",
    "--python",
    "-m",
    "sage.repl.ipython_kernel",
    "--matplotlib=inline",
    "-f",
    "{connection_file}"
   ],
   "display_name": "SageMath 10.1",
   "env": {
   },
   "language": "sagemath",
   "metadata": {
    "cocalc": {
     "description": "Open-source mathematical software system",
     "priority": 10,
     "url": "https://www.sagemath.org/"
    }
   },
   "name": "sage-10.1",
   "resource_dir": "/ext/jupyter/kernels/sage-10.1"
  },
  "language_info": {
   "codemirror_mode": {
    "name": "ipython",
    "version": 3
   },
   "file_extension": ".py",
   "mimetype": "text/x-python",
   "name": "python",
   "nbconvert_exporter": "python",
   "pygments_lexer": "ipython3",
   "version": "3.11.1"
  }
 },
 "nbformat": 4,
 "nbformat_minor": 4
}