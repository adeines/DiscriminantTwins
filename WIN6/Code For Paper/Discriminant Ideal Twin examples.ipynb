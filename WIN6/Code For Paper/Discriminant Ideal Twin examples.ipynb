{
 "cells": [
  {
   "cell_type": "markdown",
   "metadata": {
    "collapsed": false
   },
   "source": [
    "## Code for Paper\n",
    "#### \"Towards a Classification of $p^2$-Discriminant Ideal Twins over Number Fields\"\n",
    "\n",
    "#### Theorem 8\n",
    "\n",
    "The code for Barrios' parameterizations is in \"explicit_isogeny_models.sage\"."
   ]
  },
  {
   "cell_type": "code",
   "execution_count": 4,
   "metadata": {
    "collapsed": false
   },
   "outputs": [
    {
     "name": "stdout",
     "output_type": "stream",
     "text": [
      "Elliptic Curve defined by y^2 = x^3 + (-3*(t^3+234*t^2+756*t+2160)*d^2*(t+6))*x + (-2*(t^6-504*t^5-16632*t^4-123012*t^3-517104*t^2-1143072*t-1475496)*d^3) over Symbolic Ring\n"
     ]
    }
   ],
   "source": [
    "load('explicit_isogeny_models.sage')\n",
    "t, d = var('t, d')\n",
    "E1, E2, E3 = isog_curves(9, t, d)\n",
    "print(E1)"
   ]
  },
  {
   "cell_type": "markdown",
   "metadata": {
    "collapsed": false
   },
   "source": [
    "#### Theorem 11\n",
    "Here is the code to factor the modular polynomials."
   ]
  },
  {
   "cell_type": "code",
   "execution_count": 5,
   "metadata": {
    "collapsed": false
   },
   "outputs": [
    {
     "name": "stdout",
     "output_type": "stream",
     "text": [
      "j =  0\n",
      " at p =  9\n"
     ]
    },
    {
     "name": "stdout",
     "output_type": "stream",
     "text": [
      " at p =  25\n",
      "\n",
      "j =  1728\n",
      " at p =  9\n",
      " at p =  25\n",
      "  p =  25 valuation 2 at factor y - 1728\n",
      "\n"
     ]
    }
   ],
   "source": [
    "load('modular_polynomial.sage')\n",
    "plist = [9, 25]\n",
    "Tplist = [T9, T25]\n",
    "for j in [0, 1728]:\n",
    "    print('j = ', j)\n",
    "    for p, Tp in zip(plist, Tplist):\n",
    "        print(' at p = ', p)\n",
    "        phip(x, y) = modpoly(Tp)\n",
    "        facs = phip(j, y).factor_list()\n",
    "        for f, e in facs:\n",
    "            #print(e, f)\n",
    "            if f == y - j:\n",
    "                print('  p = ', p , 'valuation %s at factor %s'%(e, f))\n",
    "    print()"
   ]
  },
  {
   "cell_type": "markdown",
   "metadata": {
    "collapsed": false
   },
   "source": [
    "#### Theorem 12\n",
    "And here we factor the difference of $j$-invariants."
   ]
  },
  {
   "cell_type": "code",
   "execution_count": 11,
   "metadata": {
    "collapsed": false,
    "scrolled": true
   },
   "outputs": [
    {
     "name": "stdout",
     "output_type": "stream",
     "text": [
      "p^2 =  9\n",
      "   t^2 - 6*t - 18\n",
      "  jinviariants 14776832*t0 + 32440512 1728\n",
      "p^2 =  25\n"
     ]
    },
    {
     "name": "stdout",
     "output_type": "stream",
     "text": [
      "   t^2 - 2*t - 4\n",
      "  jinviariants 9845745509376*t0 + 12170004103872 1728\n"
     ]
    }
   ],
   "source": [
    "load('explicit_isogeny_models.sage')\n",
    "t = var('t')\n",
    "for p2 in [9, 25]:\n",
    "    print('p^2 = ', p2)\n",
    "    E1, E2, E3 = isog_curves(p2, t, 1)\n",
    "    f = E1.j_invariant() - E3.j_invariant()\n",
    "    for g, e in f.factor_list():\n",
    "        if g.degree(t) < 1: continue\n",
    "        if e < 1: continue\n",
    "        K.<t0> = NumberField(g)\n",
    "        try:\n",
    "            C1, C2, C3 = isog_curves(p2, t0, 1)\n",
    "            if C1.is_isomorphic(C3): continue\n",
    "            D1 = C1.minimal_discriminant_ideal()\n",
    "            D3 = C3.minimal_discriminant_ideal()\n",
    "            if D1 == D3:\n",
    "                print('  ', g)\n",
    "                assert(C1.j_invariant() == C3.j_invariant())\n",
    "                print('  jinviariants', C1.j_invariant(), C2.j_invariant())\n",
    "        except ArithmeticError: continue"
   ]
  },
  {
   "cell_type": "code",
   "execution_count": 94,
   "metadata": {
    "collapsed": false
   },
   "outputs": [
    {
     "name": "stdout",
     "output_type": "stream",
     "text": [
      "j-invariants 727057727488000/37 4096000/37\n",
      "discriminants\n",
      "   Principal ideal (26973) of Integer Ring\n",
      "   Principal ideal (26973) of Integer Ring\n",
      "j-invariants -50357871050752/19 32768/19\n",
      "discriminants\n",
      "   Principal ideal (13851) of Integer Ring\n",
      "   Principal ideal (13851) of Integer Ring\n",
      "j-invariants 3922540634246430781376/71 190705121216/71\n",
      "discriminants\n",
      "   Principal ideal (36352) of Integer Ring\n",
      "   Principal ideal (36352) of Integer Ring\n",
      "j-invariants -52893159101157376/11 -4096/11\n",
      "discriminants\n",
      "   Principal ideal (704) of Integer Ring\n",
      "   Principal ideal (704) of Integer Ring\n"
     ]
    }
   ],
   "source": [
    "load('utils.sage')\n",
    "DITs = discriminant_ideal_twins_nonsingular_j_invariants_squares(QQ)\n",
    "for E1, E3 in DITs:\n",
    "    D1 = E1.minimal_discriminant_ideal()\n",
    "    D3 = E3.minimal_discriminant_ideal()\n",
    "    print('j-invariants', E1.j_invariant(), E3.j_invariant())\n",
    "    print('discriminants')\n",
    "    print('  ', D1)\n",
    "    print('  ', D3)"
   ]
  },
  {
   "cell_type": "markdown",
   "metadata": {
    "collapsed": false
   },
   "source": [
    "For fun, the code also works for number fields with finite unit group, i.e., quadratic imaginary fields.  Over other fields it doesn't fail, but it will only give incomplete results."
   ]
  },
  {
   "cell_type": "code",
   "execution_count": 102,
   "metadata": {
    "collapsed": false
   },
   "outputs": [
    {
     "name": "stdout",
     "output_type": "stream",
     "text": [
      "-3308490048421376/757*a + 5130479681802432/757 -15981056/757*a - 4223808/757 True\n",
      "-50357871050752/19 32768/19 True\n",
      "3308490048421376/757*a + 5130479681802432/757 15981056/757*a - 4223808/757 True\n",
      "727057727488000/37 4096000/37 True\n",
      "15981056/757*a - 4223808/757 3308490048421376/757*a + 5130479681802432/757 True\n",
      "-15981056/757*a - 4223808/757 -3308490048421376/757*a + 5130479681802432/757 True\n",
      "-58768561059538446864/521*a - 80192582277081765480/521 -283680144/521*a + 855469080/521 True\n",
      "-52893159101157376/11 -4096/11 True\n",
      "58768561059538446864/521*a - 80192582277081765480/521 283680144/521*a + 855469080/521 True\n",
      "3922540634246430781376/71 190705121216/71 True\n",
      "-5698354821120/19*a - 4288599378432/19 5698354821120/19*a - 4288599378432/19 True\n",
      "-479444640554880/41*a + 689833914194664/41 479444640554880/41*a + 689833914194664/41 True\n",
      "-58768561059538446864/521*a - 80192582277081765480/521 -283680144/521*a + 855469080/521 True\n",
      "-52893159101157376/11 -4096/11 True\n",
      "58768561059538446864/521*a - 80192582277081765480/521 283680144/521*a + 855469080/521 True\n",
      "3922540634246430781376/71 190705121216/71 True\n",
      "479444640554880/41*a + 689833914194664/41 -479444640554880/41*a + 689833914194664/41 True\n",
      "5698354821120/19*a - 4288599378432/19 -5698354821120/19*a - 4288599378432/19 True\n"
     ]
    }
   ],
   "source": [
    "load('utils.sage')\n",
    "P.<x> = QQ[]\n",
    "K.<a> = NumberField(x^2 + 1)\n",
    "DITs = discriminant_ideal_twins_nonsingular_j_invariants_squares(K)\n",
    "for E1, E3 in DITs:\n",
    "    D1 = E1.minimal_discriminant_ideal()\n",
    "    D3 = E3.minimal_discriminant_ideal()\n",
    "    print(E1.j_invariant(), E3.j_invariant(), D1 == D3)"
   ]
  },
  {
   "cell_type": "code",
   "execution_count": 101,
   "metadata": {
    "collapsed": false
   },
   "outputs": [
    {
     "name": "stdout",
     "output_type": "stream",
     "text": [
      "-5629058103803395/518*a - 7384553560278229/518 608823/259*a - 26628845/518 True\n",
      "579646309349518/133*a + 1352709098404281/266 -1586601/266*a + 610835/266 True\n",
      "-50357871050752/19 32768/19 True\n",
      "-579646309349518/133*a + 193416479705245/266 1586601/266*a + 1098718/133 True\n",
      "5629058103803395/518*a - 877747728237417/259 -608823/259*a - 27846491/518 True\n",
      "727057727488000/37 4096000/37 True\n",
      "17268549/2*a - 114659280 -17268549/2*a - 246587109/2 True\n",
      "-17268549/2*a - 246587109/2 17268549/2*a - 114659280 True\n",
      "-608823/259*a - 27846491/518 5629058103803395/518*a - 877747728237417/259 True\n",
      "1586601/266*a + 1098718/133 -579646309349518/133*a + 193416479705245/266 True\n",
      "-1586601/266*a + 610835/266 579646309349518/133*a + 1352709098404281/266 True\n",
      "608823/259*a - 26628845/518 -5629058103803395/518*a - 7384553560278229/518 True\n",
      "-3860597200847759212544/1741*a - 7741022660746957553664/1741 36405968896/1741*a - 153853722624/1741 True\n",
      "2667266594733162496/181*a + 709021606916751360/181 1048576/181*a + 3932160/181 True\n",
      "-52893159101157376/11 -4096/11 True\n",
      "-2667266594733162496/181*a - 1958244987816411136/181 -1048576/181*a + 2883584/181 True\n",
      "3860597200847759212544/1741*a - 3880425459899198341120/1741 -36405968896/1741*a - 190259691520/1741 True\n",
      "3922540634246430781376/71 190705121216/71 True\n",
      "-36405968896/1741*a - 190259691520/1741 3860597200847759212544/1741*a - 3880425459899198341120/1741 True\n",
      "-1048576/181*a + 2883584/181 -2667266594733162496/181*a - 1958244987816411136/181 True\n",
      "1048576/181*a + 3932160/181 2667266594733162496/181*a + 709021606916751360/181 True\n"
     ]
    },
    {
     "name": "stdout",
     "output_type": "stream",
     "text": [
      "36405968896/1741*a - 153853722624/1741 -3860597200847759212544/1741*a - 7741022660746957553664/1741 True\n"
     ]
    }
   ],
   "source": [
    "load('utils.sage')\n",
    "P.<x> = QQ[]\n",
    "K.<a> = NumberField(x^2 + x + 1)\n",
    "DITs = discriminant_ideal_twins_nonsingular_j_invariants_squares(K)\n",
    "for E1, E3 in DITs:\n",
    "    D1 = E1.minimal_discriminant_ideal()\n",
    "    D3 = E3.minimal_discriminant_ideal()\n",
    "    print(E1.j_invariant(), E3.j_invariant(), D1 == D3)"
   ]
  },
  {
   "cell_type": "code",
   "execution_count": 0,
   "metadata": {
    "collapsed": false
   },
   "outputs": [
   ],
   "source": [
   ]
  },
  {
   "cell_type": "code",
   "execution_count": 0,
   "metadata": {
    "collapsed": false
   },
   "outputs": [
   ],
   "source": [
   ]
  }
 ],
 "metadata": {
  "kernelspec": {
   "argv": [
    "sage-10.1",
    "--python",
    "-m",
    "sage.repl.ipython_kernel",
    "--matplotlib=inline",
    "-f",
    "{connection_file}"
   ],
   "display_name": "SageMath 10.1",
   "env": {
   },
   "language": "sagemath",
   "metadata": {
    "cocalc": {
     "description": "Open-source mathematical software system",
     "priority": 10,
     "url": "https://www.sagemath.org/"
    }
   },
   "name": "sage-10.1",
   "resource_dir": "/ext/jupyter/kernels/sage-10.1"
  }
 },
 "nbformat": 4,
 "nbformat_minor": 4
}